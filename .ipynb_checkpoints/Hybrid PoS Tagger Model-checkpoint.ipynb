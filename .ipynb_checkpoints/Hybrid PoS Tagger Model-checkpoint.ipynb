{
 "cells": [
  {
   "cell_type": "markdown",
   "metadata": {
    "colab_type": "text",
    "id": "7MIY7ILs1lru"
   },
   "source": [
    "### Table of Contents\n",
    "[Introduction](#intro)  \n",
    "[Code Flow](#code)  \n",
    "[Model Architecture](#model)  \n",
    "[Results](#results)  \n",
    "[Further/Possible Improvements](#improvements)  \n",
    "[References](#reference)"
   ]
  },
  {
   "cell_type": "markdown",
   "metadata": {
    "colab_type": "text",
    "id": "ex1LhVoY1lrx"
   },
   "source": [
    "### <a name='intro'>CNN+BiLSTM hybrid approach to Part-of-Speech(PoS) tagging to predict and restore punctuations to sentences</a>\n",
    "\n",
    "The prevalent take on PoS problems have been to use BiLSTM or LSTM models due to their ability to capture and learn dependency information of sentences which are then used to make predictions.\n",
    "\n",
    "This project intends to combine CNN with BiLSTM. Making use of CNNs' ability to capture word and morphological of sentences and forwarding them to the BiLSTM.\n",
    "\n",
    "Outcome is to produce a hybrid model which outperforms a BiLSTM model."
   ]
  },
  {
   "cell_type": "markdown",
   "metadata": {
    "colab_type": "text",
    "id": "CjO3AJNF1lrz"
   },
   "source": [
    "#### <a name='code'>Code flow</a>\n",
    "\n",
    "General code flow:\n",
    "\n",
    "1. Import packages and dependencies required for the application\n",
    "2. Load and process Ted Talks dataset to generate the corresponding labels  \n",
    "3. Remove punctuations from dataset to remove bias  \n",
    "4. Build vocabulary mappings of the dataset words and labels  \n",
    "5. Tokenize dataset and labels based on mappings\n",
    "6. Pad sequences and labels in dataset to maximum sequence length\n",
    "7. One-hot encode labels as data is not ordinal\n",
    "8. Split dataset into training and testing sets\n",
    "9. Construct hybrid model\n",
    "10. Feed training data into model with 30% of it used as validation\n",
    "11. Load and process Glove embeddings to extract weight matrix based on unique words in dataset\n",
    "12. Fit and train model with early stopping and checkpoint save of best results\n",
    "13. Save image of model architecture\n",
    "14. Delete current model and load saved model with best results\n",
    "15. Retrieve a sample of testing data and make a prediction on it\n",
    "16. Restore and print out results of prediction\n",
    "17. Make predictions using testing set and construct a Confusion Matrix & Classification Report from it to evaluate model\n",
    "18. Print out Precision, Recall and F1-Scores for testing set"
   ]
  },
  {
   "cell_type": "markdown",
   "metadata": {
    "colab_type": "text",
    "id": "CWVl3OCl1lr1"
   },
   "source": [
    "#### Import required packages"
   ]
  },
  {
   "cell_type": "code",
   "execution_count": 1,
   "metadata": {
    "colab": {
     "base_uri": "https://localhost:8080/",
     "height": 34
    },
    "colab_type": "code",
    "executionInfo": {
     "elapsed": 2015,
     "status": "ok",
     "timestamp": 1548064559837,
     "user": {
      "displayName": "Leo Tay",
      "photoUrl": "",
      "userId": "17143338865945125396"
     },
     "user_tz": -480
    },
    "id": "pjJMZBLl1lr4",
    "outputId": "06d058bf-c489-4764-b225-626f6510b0a8"
   },
   "outputs": [
    {
     "name": "stderr",
     "output_type": "stream",
     "text": [
      "Using TensorFlow backend.\n"
     ]
    }
   ],
   "source": [
    "# Set random seed\n",
    "from numpy.random import seed\n",
    "seed(50)\n",
    "from tensorflow import set_random_seed\n",
    "set_random_seed(50)\n",
    "\n",
    "# Import required packages and dependencies\n",
    "import io, json, keras, string, itertools, random, time, datetime, numpy as np, matplotlib.pyplot as plt, tensorflow as tf, \\\n",
    "pandas as pd\n",
    "from string import punctuation\n",
    "from collections import Counter\n",
    "from sklearn.metrics import confusion_matrix\n",
    "from sklearn.metrics import classification_report\n",
    "from keras import backend as K\n",
    "K.tensorflow_backend._get_available_gpus()\n",
    "from keras.callbacks import TensorBoard, EarlyStopping, ModelCheckpoint\n",
    "from keras.models import Model, load_model\n",
    "from keras.utils import to_categorical\n",
    "from keras.initializers import glorot_uniform, random_uniform\n",
    "from keras.layers import Activation\n",
    "from keras.preprocessing.sequence import pad_sequences\n",
    "from keras.optimizers import Adam\n",
    "from keras.layers import Embedding, Conv1D, Flatten, Dense, Dropout, LSTM, Bidirectional, TimeDistributed, \\\n",
    "Dropout, Input, concatenate, Reshape\n",
    "from keras import regularizers\n",
    "from keras.utils import plot_model\n",
    "from keras.layers.normalization import BatchNormalization"
   ]
  },
  {
   "cell_type": "markdown",
   "metadata": {
    "colab_type": "text",
    "id": "xULJJHsI1lsB"
   },
   "source": [
    "#### Define model parameters"
   ]
  },
  {
   "cell_type": "code",
   "execution_count": 2,
   "metadata": {
    "colab": {},
    "colab_type": "code",
    "id": "sW18wutg1lsC"
   },
   "outputs": [],
   "source": [
    "# Set model parameters\n",
    "# Dimension of the embedding layer, must match that of the word vectors\n",
    "embed_dim = 300\n",
    "\n",
    "# Maximum sequence length, how long each sentence/sequence should be\n",
    "max_seq_len = 128\n",
    "\n",
    "# Dropout are\n",
    "drop_prob = 0.3\n",
    "\n",
    "# Number of filters for each CNN layer \n",
    "filter_sizes = [64,64,64]\n",
    "\n",
    "# Kernel size for each CNN layer\n",
    "kernels = [3,5,7]\n",
    "\n",
    "# Weights and bias initialization for each CNN layer\n",
    "kernel_weight = glorot_uniform()\n",
    "bias = random_uniform()\n",
    "\n",
    "# Regularization for each CNN layer\n",
    "# kernel_reg = regularizers.l2(l=0.0001)\n",
    "kernel_reg = None\n",
    "\n",
    "# Embed trainable\n",
    "trainable = False\n",
    "\n",
    "# Number of hidden units for Dense layer\n",
    "lstm_hidden = 1024\n",
    "\n",
    "# Number of hidden units for BiLSTM layer\n",
    "lstm_hidden_2 = 1024\n",
    "\n",
    "# Learning rate for Adam optimizer\n",
    "adam_lr = 0.001\n",
    "\n",
    "# Batch size\n",
    "batch_size = 64\n",
    "\n",
    "# Number of epochs to train for\n",
    "epochs = 30\n",
    "\n",
    "# Portion of training data to be used for validation\n",
    "valid_split = 0.3\n",
    "\n",
    "# Define padding for CNN layers\n",
    "cnn_padding = 'same'\n",
    "\n",
    "# Define activation function for CNN layers\n",
    "cnn_activation = 'relu'\n",
    "\n",
    "# Define activation function for dense layer\n",
    "dense_activation = 'relu'\n",
    "\n",
    "# Define early stop parameters\n",
    "monitor = 'val_loss'\n",
    "patience = 2\n",
    "\n",
    "# Define modelcheckpoint parameters\n",
    "save_best_only=True\n",
    "\n",
    "# Define padding type\n",
    "seq_lab_padding = 'post'"
   ]
  },
  {
   "cell_type": "markdown",
   "metadata": {
    "colab_type": "text",
    "id": "xxgQqw5p1lsG"
   },
   "source": [
    "#### Define miscellaneous settings "
   ]
  },
  {
   "cell_type": "code",
   "execution_count": 3,
   "metadata": {
    "colab": {},
    "colab_type": "code",
    "id": "IqqRwLvN1lsI"
   },
   "outputs": [],
   "source": [
    "# Dataset filename, change this variable to switch datasets\n",
    "dataset_name = 'ted_data'\n",
    "\n",
    "# train, validation dataset split ratio\n",
    "split_rat = 0.8"
   ]
  },
  {
   "cell_type": "markdown",
   "metadata": {
    "colab_type": "text",
    "id": "dAESxJrd1lsL"
   },
   "source": [
    "#### Define custom functions"
   ]
  },
  {
   "cell_type": "code",
   "execution_count": 4,
   "metadata": {
    "colab": {},
    "colab_type": "code",
    "id": "qmPr0U2K1lsN",
    "outputId": "2cc58fac-1260-4fdd-a931-b807e3fa4e37"
   },
   "outputs": [],
   "source": [
    "# Define custom functions\n",
    "def plot_confusion_matrix(cm, dataset_type, normalize=False, cmap=plt.cm.Blues):\n",
    "    '''\n",
    "    Description: \n",
    "        - Prints and plots the confusion matrix. Normalization can be applied by setting `normalize=True`\n",
    "\n",
    "    Args:\n",
    "        - cm: Confusion Matrix\n",
    "        - classes: Names of classes\n",
    "        - normalize: Whether to or to not normal values in Confusion Matrix\n",
    "        - cmap: Plot color\n",
    "    '''\n",
    "\n",
    "    # Check if normalize is true or false\n",
    "    if normalize:\n",
    "        cm = cm.astype('float') / cm.sum(axis=1)[:, np.newaxis]\n",
    "        print(\"****Normalized confusion matrix:****\")\n",
    "    else:\n",
    "        print('Confusion matrix, without normalization')\n",
    "    \n",
    "    # Define class names\n",
    "    if dataset_type == 'mge' or dataset_type == 'MGE':\n",
    "        classes = ['Pad', 'NA', 'Period', 'Comma', 'Question', 'Exclaim', 'Ellipsis']        \n",
    "    else:\n",
    "        classes = ['Pad', 'NA', 'Comma', 'Period', 'Question', 'Exclaim', 'Ellipsis']      \n",
    "        \n",
    "    # Format axis and plot Confusion Matrix\n",
    "    plt.imshow(cm, interpolation='nearest', cmap=cmap)\n",
    "    plt.title(dataset_type+' Confusion Matrix')\n",
    "    plt.colorbar()\n",
    "    tick_marks = np.arange(len(classes))\n",
    "    plt.xticks(tick_marks, classes, rotation=45)\n",
    "    plt.yticks(tick_marks, classes)\n",
    "\n",
    "    fmt = '.2f' if normalize else 'd'\n",
    "    thresh = cm.max() / 2.\n",
    "    for i, j in itertools.product(range(cm.shape[0]), range(cm.shape[1])):\n",
    "        plt.text(j, i, format(cm[i, j], fmt),\n",
    "                horizontalalignment=\"center\",\n",
    "                color=\"white\" if cm[i, j] > thresh else \"black\")\n",
    "    plt.show()\n",
    "#     plt.savefig('test1.jpg')\n",
    "\n",
    "def get_labels(seq):\n",
    "    '''\n",
    "    Description: \n",
    "        - Creates a sequence of labels based on the input sequence\n",
    "\n",
    "    Args:\n",
    "        - seq: Input sequence\n",
    "    \n",
    "    Returns:\n",
    "        - labels_seq: Sequence labels\n",
    "    '''\n",
    "    \n",
    "    labels_seq = []\n",
    "    seq = seq.split()\n",
    "    for i in range(len(seq)):\n",
    "        if '...' in seq[i]:\n",
    "            labels_seq.append('<3-dots>')\n",
    "        elif ',' in seq[i]:\n",
    "            labels_seq.append('<comma>')\n",
    "        elif '.' in seq[i]:\n",
    "            labels_seq.append('<period>')\n",
    "        elif '?' in seq[i]:\n",
    "            labels_seq.append('<question>')\n",
    "        elif '!' in seq[i]:\n",
    "            labels_seq.append('<exclaim>')\n",
    "        else:\n",
    "            labels_seq.append('<na>')\n",
    "    return labels_seq\n",
    "\n",
    "def process_dataset(dataset_name):\n",
    "    '''\n",
    "    Description:\n",
    "        - Process the Ted Talks dataset\n",
    "        - Processed data and labels are written to the processed folder\n",
    "        \n",
    "    Args:\n",
    "        - dataset_name: Name of dataset file to be processed\n",
    "    '''\n",
    "    data = open('./data/raw/'+dataset_name, 'r', encoding='utf-8').read()\n",
    "    \n",
    "    # Convert all characters to lowercase\n",
    "    data = data.lower()\n",
    "\n",
    "    # Look-up table to remove punctuations from data\n",
    "    table = str.maketrans('', '', punctuation)\n",
    "\n",
    "    # Define and remove characters and bracketed actions\n",
    "    replace = ['♫', '♪', '–', '…', '(applause)', '(laughter)']\n",
    "    for i in range(len(replace)):\n",
    "        data = data.replace(replace[i], ' ')\n",
    "\n",
    "    # Split dataset by sentences\n",
    "    data_split = data.split('\\n')\n",
    "    print('Pre number of '+dataset_name+' sentences: \\t{}'.format(len(data_split)))\n",
    "    print('\\n')\n",
    "    \n",
    "    # Get longest sentence in dataset and its index\n",
    "    print(max(enumerate(data_split), key=lambda x: len(x[1])))\n",
    "    print('\\n')\n",
    "    print('Length of longest '+dataset_name+' sentence: \\t{}'.format(len(max(data_split, key=len))))\n",
    "\n",
    "    # Clean and split the longest sentence into multiple ones based on full-stops\n",
    "    data_split[185073] = data_split[185073].replace(',', ', ')\n",
    "    data_split[185073] = data_split[185073].replace('.', '.\\n')\n",
    "    long_sent = data_split[185073].split('\\n')\n",
    "\n",
    "    # Check number of sentences from chunking longest sentence\n",
    "    print('Chunked longest '+dataset_name+' sentence: \\t{}'.format(len(long_sent)))\n",
    "\n",
    "    # Remove longest sentence at index 185703\n",
    "    del data_split[185073]\n",
    "\n",
    "    # Add chunked sentences back to dataset\n",
    "    for x in long_sent:\n",
    "        data_split.append(x)\n",
    "\n",
    "    # Check length of dataset after addition\n",
    "    print('Post number of '+dataset_name+' sentences: \\t{}'.format(len(data_split)))\n",
    "    print('\\n')\n",
    "\n",
    "    # Remove empty rows\n",
    "    data_split = data_split[:238003]\n",
    "\n",
    "    # Check last sentence of dataset\n",
    "    print('Last Sentence of '+dataset_name+' dataset: {}'.format(data_split[-1]))\n",
    "    print('\\n')\n",
    "\n",
    "    # Get corresponding labels for dataset\n",
    "    process_labels = [get_labels(seq) for seq in data_split]\n",
    "    process_labels = [' '.join(seq) for seq in process_labels]\n",
    "\n",
    "    # Remove all punctuations from dataset\n",
    "    sequences = [seq.translate(table) for seq in data_split]\n",
    "\n",
    "    # Combined sentences back into a single piece for Counter\n",
    "    combined_sequences = ' '.join(sequences)\n",
    "\n",
    "    # Check if there are additional characters to remove\n",
    "    print(Counter(combined_sequences))\n",
    "    print('\\n')\n",
    "\n",
    "    # Get all words in the dataset\n",
    "    words = combined_sequences.split()\n",
    "\n",
    "    # Save inputs and labels for loading\n",
    "    with open('./data/processed/'+dataset_name+'_processed_inputs', 'w', encoding='utf-8') as f:\n",
    "        for x in sequences:\n",
    "            f.write(x+'\\n')\n",
    "    with open('./data/processed/'+dataset_name+'_processed_labels', 'w', encoding='utf-8') as f:\n",
    "        for x in process_labels:\n",
    "            f.write(x+'\\n')\n",
    "\n",
    "    # Check number of sequences and labels\n",
    "    print('Number of '+dataset_name+' sequences after processing: \\t{}'.format(len(sequences)))\n",
    "    print('Number of '+dataset_name+' labels after processing: \\t{}'.format(len(process_labels)))\n",
    "        \n",
    "def load_processed_dataset(dataset_name):\n",
    "    '''\n",
    "    Description:\n",
    "        - Loads processed dataset (Data and labels)\n",
    "        - Dataset(s) must be present in the processed folder\n",
    "        \n",
    "    Args:\n",
    "        - dataset_name: Name of data and labels file to be loaded\n",
    "        \n",
    "    Returns:\n",
    "        - data_split: Processed data\n",
    "        - y_labels: Processed labels\n",
    "    '''\n",
    "    # Load and process input/label data\n",
    "    data = open('./data/processed/'+dataset_name+'_processed_inputs', 'r', encoding='utf-8').read()\n",
    "    data = data.lower()\n",
    "    data_split = data.split('\\n')\n",
    "    data_split = data_split[:-1]\n",
    "\n",
    "    # Load processed labels\n",
    "    y_labels = open('./data/processed/'+dataset_name+'_processed_labels', 'r', encoding='utf-8').read()\n",
    "    y_labels = y_labels.split('\\n')\n",
    "    y_labels = y_labels[:-1]\n",
    "    \n",
    "    return data_split, y_labels    \n",
    "\n",
    "def tokenize_data(data, labels, dataset_name):\n",
    "    '''\n",
    "    Description:\n",
    "        - Tokenize and pad data/labels into integer sequences\n",
    "        - Labels will further be one-hot encoded\n",
    "        - Json files mapping unique words and labels will also be written into the processed folder\n",
    "        \n",
    "    Args:\n",
    "        - data: Input data\n",
    "        - labels: Labels\n",
    "        - dataset_name: Name of dataset\n",
    "        \n",
    "    Returns:\n",
    "        - unique_vocab: Number of unique words\n",
    "        - no_classes: Number of unique labels\n",
    "        - pad_seq: Tokenized and padded input data\n",
    "        - encoded_labels: One-hot encoded labels sequences\n",
    "        - vocab_to_int: Mapping of unique words to integers\n",
    "        - label_to_int: Mapping of unique labels to integers\n",
    "    '''\n",
    "    # Join all words in data into one\n",
    "    all_data = ' '.join(data)\n",
    "    # Get all words\n",
    "    words = all_data.split()\n",
    "        \n",
    "    # Build words vocab\n",
    "    words_in_vocab = Counter(words)\n",
    "    vocab = sorted(words_in_vocab, key=words_in_vocab.get, reverse=True)\n",
    "\n",
    "    # Skip most common word\n",
    "    vocab_to_int = {word: index for index, word in enumerate(vocab, 2)}\n",
    "    vocab_to_int['<pad>'] = 0  # The special value used for padding\n",
    "    vocab_to_int['<oov>'] = 1  # The special value used for OOVs\n",
    "    \n",
    "    # Write vocab dictionaries to file\n",
    "    with open('./data/processed/'+dataset_name+'_vocabs.json', 'w', encoding='utf-8') as fv:\n",
    "        json.dump(vocab_to_int, fv, indent=4)\n",
    "    \n",
    "    # Check number of unique words\n",
    "    unique_vocab = len(vocab_to_int)\n",
    "    print('Number of unique words:', unique_vocab)\n",
    "    print('\\n')\n",
    "    \n",
    "    # Tokenize input sequences\n",
    "    seq_int = []\n",
    "    for seq in data:\n",
    "        seq_int.append([vocab_to_int[word] for word in seq.split()])\n",
    "\n",
    "    # Pad input sequences\n",
    "    pad_seq = pad_sequences(sequences=seq_int, maxlen=max_seq_len, padding=seq_lab_padding, value=0)\n",
    "\n",
    "    # Check sample sequence\n",
    "    print('Sample sequence:', data[-1])\n",
    "    print('\\n')\n",
    "    print('Sample sequence:', pad_seq[-1])\n",
    "    print('\\n')\n",
    "    \n",
    "    # Join all labels into one\n",
    "    all_labels = ' '.join(labels)\n",
    "    # Get all labels\n",
    "    labels_tag = all_labels.split()\n",
    "    \n",
    "    print('Labels: {}'.format(Counter(labels_tag)))\n",
    "    \n",
    "    # Build labels vocab\n",
    "    labels_in_vocab = Counter(labels_tag)\n",
    "    labels_vocab = sorted(labels_in_vocab, key=labels_in_vocab.get, reverse=True)\n",
    "    label_to_int = {t: i for i, t in enumerate(labels_vocab, 1)}\n",
    "    label_to_int['<pad>'] = 0  # The special value used to padding #variable\n",
    "\n",
    "    # Write labels dictionaries to file\n",
    "    with open('./data/processed/'+dataset_name+'_labels.json', 'w', encoding='utf-8') as fl:\n",
    "        json.dump(label_to_int, fl, indent=4)\n",
    "\n",
    "    # Check label classes distribution\n",
    "    no_classes = len(label_to_int)\n",
    "    print('Class distribution:', Counter(labels_in_vocab))\n",
    "    print('\\n')\n",
    "\n",
    "    # Check number of unique labels\n",
    "    print('Number of unique labels:', no_classes)\n",
    "    print(label_to_int)   \n",
    "    print('\\n')\n",
    "\n",
    "    # Tokenize output labels\n",
    "    lab_int = []\n",
    "    for lab in labels:\n",
    "        lab_int.append([label_to_int[word] for word in lab.split()])\n",
    "\n",
    "    # Pad input labels\n",
    "    pad_labels = pad_sequences(sequences=lab_int, maxlen=max_seq_len, padding=seq_lab_padding, value=0)\n",
    "    encoded_labels = [to_categorical(i, num_classes=no_classes) for i in pad_labels]\n",
    "\n",
    "    # Check sample label\n",
    "    print('Sample label: \\t{}'.format(pad_labels[-1]))\n",
    "    print('\\n')\n",
    "    print('Encoded label: \\t{}'.format(encoded_labels[-1]))\n",
    "    print('\\n')\n",
    "\n",
    "    # Check that all sequences and labels are at max sequence length \n",
    "    assert len(pad_seq)==len(seq_int)\n",
    "    assert len(pad_seq[0])==max_seq_len\n",
    "\n",
    "    assert len(pad_labels)==len(lab_int)\n",
    "    assert len(pad_labels[0])==max_seq_len\n",
    "    print('Sequence and labels length check passed!')\n",
    "    \n",
    "    return unique_vocab, no_classes, pad_seq, encoded_labels, vocab_to_int, label_to_int\n",
    "\n",
    "def split_data(pad_seq, encoded_labels, dataset_name):\n",
    "    '''\n",
    "    Description:\n",
    "        - Splits tokenized data and labels into training and validation sets\n",
    "        \n",
    "    Args:\n",
    "        - pad_seq: Toekenized input data sequences\n",
    "        - encoded_labels: One-hot encoded labels sequences\n",
    "        - dataset_name: Name of dataset\n",
    "        \n",
    "    Returns:\n",
    "        - train_val_x: Training/validation input data\n",
    "        - test_x: Testing input data\n",
    "        - train_val_y: Training/validation labels\n",
    "        - test_y: Testing labels\n",
    "    '''\n",
    "    # Ratio to split data and labels at\n",
    "    split_index = int(split_rat*len(pad_seq))\n",
    "\n",
    "    # Split data into training, validation, and test data (features and labels, x and y)\n",
    "    train_val_x, test_x = pad_seq[:split_index], pad_seq[split_index:]\n",
    "    train_val_y, test_y = encoded_labels[:split_index], encoded_labels[split_index:]\n",
    "\n",
    "    # print out the shapes of your resultant feature data\n",
    "    print('Training/Validation '+dataset_name+' Dataset: \\t{}'.format(train_val_x.shape), len(train_val_y))\n",
    "    print('Testing '+dataset_name+' Dataset: \\t\\t\\t{}'.format(test_x.shape), len(test_y))\n",
    "    \n",
    "    return train_val_x, test_x, train_val_y, test_y\n",
    "\n",
    "def set_callbacks(monitor, patience, dataset_name, save_best_only, batch_size):\n",
    "    '''\n",
    "    Descriptin:\n",
    "        - Sets parameters for callbacks during training\n",
    "        \n",
    "    Args:\n",
    "        - monitor: Metric to monitor during training for changes\n",
    "        - patience: Number of epochs to keep training when there are no improvements\n",
    "        - dataset_name: Name of dataset\n",
    "        - save_best_only: Saves best training results\n",
    "        - batch_size: Number of training data/labels per epoch\n",
    "        \n",
    "    Returns:\n",
    "        - early_s: Early stopping callback\n",
    "        - chkpt: Model checkpoint callback\n",
    "        - tensor_b: Tensorboard callback\n",
    "    '''\n",
    "    early_s = EarlyStopping(monitor=monitor, patience=patience, verbose=1)\n",
    "    chkpt = ModelCheckpoint(filepath='./models/'+dataset_name+'_model.h5',\n",
    "                        monitor=monitor, save_best_only=save_best_only, verbose=1)\n",
    "    tensor_b = TensorBoard(log_dir='./tf_logs/{}_model'.format(dataset_name, batch_size=batch_size, \n",
    "                        write_graph=False, histogram_freq=0))\n",
    "    \n",
    "    return early_s, chkpt, tensor_b\n",
    "\n",
    "def create_model(max_seq_len, input_dim, output_dim, embed_weights, seq_len, trainable, drop_prob, lstm_hidden_2, \n",
    "                no_classes, model_type, **kwargs):\n",
    "    '''\n",
    "    Description: \n",
    "        - Constructs and compiles the CNN+BiLSTM model\n",
    "    \n",
    "    Args:\n",
    "        - max_seq_len: Maximum sequence length of each sequence, defines input shape (None, 128)\n",
    "        - input_dim: Size of vocabulary, number of unique words\n",
    "        - output_dim: Dimension of the dense embedding (128, 300)\n",
    "        - embed_weights: Pre-trained weights extracted from Glove embeddings\n",
    "        - seq_len: Length of each input sequence\n",
    "        - trainable: If the pre-trained weights can be trained\n",
    "        - drop_prob: Dropout rate \n",
    "        - lstm_hidden_2: Number of hidden units for the BiLSTM layer\n",
    "        - no_classes: Number of classes to predict for \n",
    "        - model_type: Hybrid, Baseline or MGE\n",
    "        \n",
    "    **kwargs(Arguements used when creating the Hybrid and MGE models):\n",
    "        - lstm_hidden: Number of hidden units in Dense layer after CNN\n",
    "        - filter_sizes: Filter sizes for each CNN layer\n",
    "        - kernel_size: Kernel sizes for each CNN layer\n",
    "        - kernel_reg: Kernel regularization\n",
    "        - kernel_initializer: Kernel weights initialization (Glorot)\n",
    "        - bias_initializer: Bias initialization for CNN layers\n",
    "        - activation: Activation function for Dense layer\n",
    "        - padding: Padding type for CNN layers\n",
    "        \n",
    "    Return: \n",
    "        - model: Compiled model\n",
    "    '''\n",
    "    embed_input = Input(shape=(max_seq_len,))\n",
    "\n",
    "    # Add embedding layer using weights from glove\n",
    "    embed = Embedding(input_dim=unique_vocab, output_dim=embed_dim, weights=[embed_matrix], \n",
    "                      input_length=seq_len, trainable=trainable)(embed_input) #104910 * 300\n",
    "    \n",
    "    # Add dropout to embedding layer\n",
    "    embed = Dropout(rate=drop_prob)(embed)\n",
    "    \n",
    "    if model_type == 'baseline':\n",
    "        blstm_outputs = Bidirectional(LSTM(lstm_hidden_2, return_sequences=True))(embed)\n",
    "        blstm_outputs = Dropout(rate=drop_prob)(blstm_outputs)\n",
    "        output = TimeDistributed(Dense(no_classes, activation='softmax'))(blstm_outputs)\n",
    "    else:        \n",
    "        cnn_outputs = []\n",
    "        for i in range(len(filter_sizes)):\n",
    "            # Add conv1d layer\n",
    "            out_i = Conv1D(filters=filter_sizes[i], kernel_initializer=kernel_weight, bias_initializer=bias, \n",
    "                              kernel_size=kernels[i], kernel_regularizer=kernel_reg, activation=cnn_activation, \n",
    "                              padding=cnn_padding, strides=1)(embed)\n",
    "            cnn_outputs.append(out_i)\n",
    "\n",
    "        cnn_outputs = concatenate(cnn_outputs, axis=-1)\n",
    "        cnn_outputs = Dropout(rate=drop_prob)(cnn_outputs)\n",
    "        cnn_outputs = Reshape((-1, np.sum(filter_sizes)))(cnn_outputs)\n",
    "\n",
    "        dense = Dense(lstm_hidden, activation=dense_activation)(cnn_outputs)\n",
    "        dense = Dropout(rate=drop_prob)(dense)\n",
    "\n",
    "        blstm_outputs = Bidirectional(LSTM(lstm_hidden_2, return_sequences=True))(dense)\n",
    "\n",
    "        blstm_outputs = Dropout(rate=drop_prob)(blstm_outputs)\n",
    "\n",
    "        output = TimeDistributed(Dense(no_classes, activation='softmax'))(blstm_outputs)\n",
    "\n",
    "    model = Model(inputs=[embed_input], outputs=[output])\n",
    "    model.compile(loss='categorical_crossentropy', optimizer=Adam(adam_lr), \n",
    "              metrics=['accuracy'])\n",
    "    \n",
    "    return model\n",
    "\n",
    "def plot_train_hist(model):\n",
    "    '''\n",
    "    Description:\n",
    "        - Plots and prints monitored training metrics\n",
    "        \n",
    "    Args:\n",
    "        - model: Trained model\n",
    "    '''\n",
    "    training_accuracy = model.history['acc']\n",
    "    test_accuracy = model.history['val_acc']\n",
    "    \n",
    "    # Create count of the number of epochs\n",
    "    epoch_count = range(1, len(training_accuracy) + 1)\n",
    "\n",
    "    # Visualize accuracy history\n",
    "    plt.plot(epoch_count, training_accuracy, 'r--')\n",
    "    plt.plot(epoch_count, test_accuracy, 'b-')\n",
    "    plt.legend(['Training Accuracy', 'Test Accuracy'])\n",
    "    plt.xlabel('Epoch')\n",
    "    plt.ylabel('Accuracy Score')\n",
    "    plt.show()\n",
    "\n",
    "# def get_results(model, test_x, test_y, dataset_type): \n",
    "def get_results(model, test_x, test_y): \n",
    "    '''\n",
    "    Description:\n",
    "        - Generates Classification Reports and Confusion Matrices using trained models and their corresponding test\n",
    "          data\n",
    "          \n",
    "    Args:\n",
    "        - model: Trained model\n",
    "        - test_x: Testing data\n",
    "        - test_y: Testing labels (True labels)\n",
    "        - dataset_type: Dataset type (Hybrid, Baseline or, MGE)\n",
    "        \n",
    "    Returns:\n",
    "        - con_matrix: Confusion Matrix\n",
    "        - class_rept_dict: Classification Report in dictionary form\n",
    "    '''\n",
    "#     if dataset_type == 'mge' or dataset_type == 'MGE':\n",
    "#         target_names = ['Pad', 'NA', 'Period', 'Comma', 'Question', 'Exclaim', 'Ellipsis']\n",
    "#     else:\n",
    "#         target_names = ['Pad', 'NA', 'Comma', 'Period', 'Question', 'Exclaim', 'Ellipsis']   \n",
    "        \n",
    "    predict = model.predict(test_x)\n",
    "    output_pred = [np.argmax(x, axis=1) for x in predict]\n",
    "    output_pred = np.concatenate(output_pred, axis=0)\n",
    "\n",
    "    y_ = [np.argmax(y, axis=1) for y in test_y]\n",
    "    y_ = np.concatenate(y_, axis=0)\n",
    "    \n",
    "    con_matrix = confusion_matrix(y_true=y_, y_pred=output_pred)\n",
    "    \n",
    "#     class_rept = classification_report(y_true=y_, y_pred=output_pred, target_names=target_names)\n",
    "    \n",
    "    class_rept_dict = classification_report(y_true=y_, y_pred=output_pred, output_dict=True)  \n",
    "    \n",
    "#     return con_matrix, class_rept, class_rept_dict\n",
    "    return con_matrix, class_rept_dict\n",
    "\n",
    "def get_df(class_rept_dict, dataset_type):\n",
    "    '''\n",
    "    Description:\n",
    "        - Converts the Classification Report dictionary into a Pandas DataFrame which can be used to display in a table format\n",
    "        \n",
    "    Args:\n",
    "        - class_rept_dict: Dictionary of the Classification Report\n",
    "        - dataset_type: Type of dataset the report was processed on\n",
    "        \n",
    "    Returns:\n",
    "        - df: Converted dataframe with entries rounded to 2 decimal places\n",
    "    '''\n",
    "    precision = []\n",
    "    recall = []\n",
    "    f1 = []\n",
    "    support = []\n",
    "\n",
    "    data = {'precision': precision,\n",
    "           'recall': recall,\n",
    "           'f1-score': f1,\n",
    "           'support': support}\n",
    "    \n",
    "    for idx, values in enumerate(class_rept_dict.items()):\n",
    "        precision.append(values[1]['precision'])\n",
    "        recall.append(values[1]['recall'])\n",
    "        f1.append(values[1]['f1-score'])\n",
    "        support.append(values[1]['support'])\n",
    "    \n",
    "    df = pd.DataFrame.from_dict(data)\n",
    "    if dataset_type == 'MGE' or dataset_type == 'mge':\n",
    "        df.rename(index={0:'Pad', 1:'NA', 2:'Period', 3:'Comma', 4:'Question', 5:'Exclaim', 6:'Ellipsis', \n",
    "                         7:'micro avg', 8:'macro avg', 9:'weighted avg'}, inplace=True)\n",
    "    else:\n",
    "        df.rename(index={0:'Pad', 1:'NA', 2:'Comma', 3:'Period', 4:'Question', 5:'Exclaim', 6:'Ellipsis',\n",
    "                         7:'micro avg', 8:'macro avg', 9:'weighted avg'}, inplace=True)\n",
    "\n",
    "    return df.round(2)\n",
    "    \n",
    "def make_prediction(model, test_seq, vocabs, labels, dataset_type, show_process=False):\n",
    "    '''\n",
    "    Description:\n",
    "        - Generates a prediction using sample test data\n",
    "        \n",
    "    Args:\n",
    "        - model: Trained model\n",
    "        - test_seq: Sample test data sequence\n",
    "        - vocabs: Words to integer mapping of dataset\n",
    "        - labels: labels to integer mapping of dataset\n",
    "        - dataset_type: Dataset type (Hybrid, Baseline or MGE)\n",
    "        - show_process: Displays intermediate results prior to final (Default False)\n",
    "    '''\n",
    "    # Load a sample of test data\n",
    "    test_data = test_seq\n",
    "\n",
    "    # Restore tokenized test data back to normal sentence\n",
    "    pred_x_seq = []\n",
    "    for x in test_data:\n",
    "        for value, index in vocabs.items():\n",
    "            if x == index:\n",
    "                pred_x_seq.append(value)\n",
    "\n",
    "    # Get predicted output of test data (Make predictions)\n",
    "    pred_expand = model.predict(np.expand_dims(test_data, axis=0))\n",
    "\n",
    "    # Retrieve position of highest probability from predictions\n",
    "    pred_y = []\n",
    "    for y in pred_expand:\n",
    "        pred_y.append(np.argmax(y, axis=1))\n",
    "\n",
    "    # Restore tokenized labels\n",
    "    pred_y_seq = []\n",
    "    for x in pred_y:\n",
    "        for y in x:\n",
    "            for value, index in labels.items():\n",
    "                if y == index:\n",
    "                    pred_y_seq.append(value)\n",
    "\n",
    "    # Restore punctuations and capitalization                \n",
    "    combined = []\n",
    "    if dataset_type == 'mge':\n",
    "        for i in range(len(pred_x_seq)):\n",
    "            if pred_y_seq[i] == '2':\n",
    "                combined.append(str(pred_x_seq[i])+',')\n",
    "            elif pred_y_seq[i] == '1':\n",
    "                combined.append(str(pred_x_seq[i])+'.')\n",
    "            elif pred_y_seq[i] == '3':\n",
    "                combined.append(str(pred_x_seq[i])+'?')\n",
    "            elif pred_y_seq[i] == '4':\n",
    "                combined.append(str(pred_x_seq[i])+'!')\n",
    "            elif pred_y_seq[i] == '5':\n",
    "                combined.append(str(pred_x_seq[i])+'...')\n",
    "            else:\n",
    "                combined.append(str(pred_x_seq[i]))\n",
    "    else:\n",
    "        for i in range(len(pred_x_seq)):\n",
    "            if pred_y_seq[i] == '<comma>':\n",
    "                combined.append(str(pred_x_seq[i])+',')\n",
    "            elif pred_y_seq[i] == '<period>':\n",
    "                combined.append(str(pred_x_seq[i])+'.')\n",
    "            elif pred_y_seq[i] == '<question>':\n",
    "                combined.append(str(pred_x_seq[i])+'?')\n",
    "            elif pred_y_seq[i] == '<exclaim>':\n",
    "                combined.append(str(pred_x_seq[i])+'!')\n",
    "            elif pred_y_seq[i] == '<3-dots>':\n",
    "                combined.append(str(pred_x_seq[i])+'...')\n",
    "            else:\n",
    "                combined.append(str(pred_x_seq[i]))\n",
    "\n",
    "    for i in range(len(combined)):\n",
    "        if '.' in combined[i] or '?' in combined[i]:\n",
    "            combined[i+1] = combined[i+1].capitalize()\n",
    "        elif combined[i] == 'i':\n",
    "            combined[i] = combined[i].capitalize()\n",
    "        else:\n",
    "            continue\n",
    "\n",
    "    # Join predicted words back into a sequence\n",
    "    combined = ' '.join(combined)\n",
    "    combined = combined.replace('<pad>', '')\n",
    "    \n",
    "    if show_process:\n",
    "        print('Predictions Index:')\n",
    "        print(pred_y)\n",
    "        print('\\n')\n",
    "        print('Prediction sequence:')\n",
    "        print(' '.join(pred_x_seq))\n",
    "        print('\\n')\n",
    "        print('Prediction output:')\n",
    "        print(' '.join(pred_y_seq))\n",
    "        print('\\n')\n",
    "        print('Combined prediction:')\n",
    "        print(combined[0].capitalize()+combined[1:].replace('ive', \"I've\"))\n",
    "    else:\n",
    "        print('Combined prediction:')\n",
    "        print(combined[0].capitalize()+combined[1:].replace('ive', \"I've\"))"
   ]
  },
  {
   "cell_type": "markdown",
   "metadata": {
    "colab_type": "text",
    "id": "dybgd1Hf1lsT"
   },
   "source": [
    "#### Load and process Ted Talks dataset. Splits data into training and validation sets"
   ]
  },
  {
   "cell_type": "code",
   "execution_count": 5,
   "metadata": {
    "colab": {},
    "colab_type": "code",
    "id": "_tINJanW1lsT",
    "outputId": "a4e79556-a3d4-4fe0-e1a9-e50ab5ba337f",
    "scrolled": true
   },
   "outputs": [
    {
     "name": "stdout",
     "output_type": "stream",
     "text": [
      "Pre number of ted_data sentences: \t237986\n",
      "\n",
      "\n",
      "(185073, '  and this is more fun.so this last one is called \"the sunshine kid.\"thank you very much for listening.old man sunshine was proud of his sun,and it brightened his day to see his little boy run,not because of what he’d done, nor the problems overcome,but that despite that his disposition remained a sunny one.it hadn’t always been like this.there’d been times when he’d tried to hide his brightness,you see, every star hits periods of hardship,it takes a brighter light to inspire them through the darkness.if we go back to when he was born in a nebula,we know that he never was thought of as regular,because he had a flair about him,to say the midas touch is wrongbut all he went near seemed to turn a little bronze,yes this sun was loved by some more than others,it was a case of joseph and his dreamcoat and his brothersbecause standing out from the crowd had its pros and its cons,and jealousy created enemies in those he outshonesuch as the shadow people.now the shadow people didn’t like the sunshine kid,because he showed up the dark things the shadow people did,and when he shone he showed the places where the shadow people hid,so the shadow people had an evil plan to get rid of him,first up — they made fun of his sunspots,shooting his dreams from the sky, their words were gunshots,designed to remind him he wasn’t very cooland he didn’t fit in with any popular kids at school.they said his head was up in space and they would bring him down to earth,essentially he came from nothing and that is what he was worth,he’d never get to go to university to learn,only degrees he’d ever show would be the first degree burnsfrom those that came too close, they told him he was too bright,that’s why no one ever looked him in the eyes,his judgment became cloudedso did the sky, with evaporated tearsas the sun started to cry.because the sunshine kid was bright, with a warm personality,and inside he burned savagelyhurt by the words and curses of the shadowy folkwho spoke holes in his soul and left cavities,and as his heart hardened, his spark darkened,every time they called him names it cooled his flames,he thought they might like him if he kept his light dimbut they were busy telling lightning she had terrible aim,he couldn’t quite get to grips with what they said,so he let his light be eclipsed by what they said,he fell into a lone star state like texas,and felt like he’d been punched in his solar plexus.but that’s when little miss sunshine came alongsinging her favorite song about how we’re made to be strong,and you don’t have to be wrong to belong, just be true to who you are,because we are all stars at heart.little miss sunshine was hot stuff,the kind of girl when you looked at heryou forgot stuff,but for him, there was no forgetting her,the minute he saw her her image burned in his retina,she was out of this world, and she accepted him,something about this girl meant he knew whenever she was next to him,things weren’t as dark as they seemed, and he dared to dream,shadows were nowhere to be seen; when she was there he beamed,his eyes would light up in ways that can’t be faked,when she grinned her rays erased the razor-tipped words of hate,they gave each other nicknames, they were \"cool star\" and \"fun sun,\"and gradually the shadowy damage became undone,she was one in a septillion, and she was brilliant,could turn the coldest blooded reptilians vermillion,loved by billions, from chileans to brazilians,and taught the sunshine kid the meaning of resilience.she said: “all the darkness in the worldcannot put out the light from a single candleso how the hell can they handle your light?only you can choose to dim it, and the sky is the limit, so silence the critics by burning.”and if eyes are windows to the soul then she drew back the curtainsand let the sun shine through the hurting.in a universe of adversity these stars stuck together,and though days became nights the memories would last forever,whether the weatherman said it or not, it would be fine,\\'cause even behind the clouds the kid could still shine.yes, the sunshine kid was bright, with a warm personality,and inside he burned savagely,fueled by the fire inspired across galaxiesby the girl who showed him belief.thank you very much. twenty-five years ago, scientists at cern created the world wide web.')\n",
      "\n",
      "\n",
      "Length of longest ted_data sentence: \t4305\n",
      "Chunked longest ted_data sentence: \t19\n",
      "Post number of ted_data sentences: \t238004\n",
      "\n",
      "\n",
      "Last Sentence of ted_data dataset:  twenty-five years ago,  scientists at cern created the world wide web.\n",
      "\n",
      "\n",
      "Counter({' ': 5183083, 'e': 2732494, 't': 2236140, 'a': 1861243, 'o': 1797491, 'i': 1648311, 'n': 1556267, 's': 1429598, 'r': 1235404, 'h': 1200803, 'l': 926456, 'd': 817246, 'u': 676726, 'c': 626734, 'm': 542737, 'w': 529153, 'y': 504344, 'g': 480783, 'f': 439860, 'p': 413986, 'b': 347437, 'v': 239213, 'k': 204683, 'x': 40701, 'j': 37556, '0': 34453, '—': 27887, 'z': 21725, 'q': 18177, '1': 16995, '2': 11304, '5': 7462, '9': 6382, '3': 5412, '4': 4555, '8': 3904, '6': 3514, '7': 3450, '’': 920, '£': 291, 'é': 283, 'í': 84, 'á': 65, 'ó': 48, 'ç': 36, 'ã': 35, 'è': 30, 'ö': 29, '“': 21, 'ñ': 20, '”': 20, 'ï': 17, 'ü': 13, 'à': 12, 'ù': 11, 'ā': 10, 'ä': 7, 'ø': 7, 'ê': 6, '\\xa0': 6, '‘': 6, 'â': 5, 'ō': 5, 'อ': 4, 'ë': 3, 'ô': 3, '²': 3, '\\x80': 3, 'ī': 3, 'ì': 3, 'ʾ': 3, 'ć': 2, 'ร': 2, '่': 2, 'ย': 2, 'æ': 2, '\\x93': 2, '•': 2, 'û': 1, 'º': 1, '˚': 1, 'ò': 1, '送': 1, '你': 1, '葱': 1, '¢': 1, '\\x94': 1, 'ă': 1, 'ť': 1, '€': 1, '∇': 1, 'τ': 1, 'č': 1, '¡': 1, 'å': 1, 'ě': 1, 'ū': 1, '¿': 1, 'ú': 1, 'ð': 1, 'प': 1, '्': 1, 'र': 1, 'े': 1, 'म': 1, 'š': 1, 'ọ': 1, '̀': 1, 'ẹ': 1})\n",
      "\n",
      "\n",
      "Number of ted_data sequences after processing: \t238003\n",
      "Number of ted_data labels after processing: \t238003\n",
      "Number of unique words: 104910\n",
      "\n",
      "\n",
      "Sample sequence:  twentyfive years ago  scientists at cern created the world wide web\n",
      "\n",
      "\n",
      "Sample sequence: [14518    84   197   649    31 10130   501     2    81  1929   948     0\n",
      "     0     0     0     0     0     0     0     0     0     0     0     0\n",
      "     0     0     0     0     0     0     0     0     0     0     0     0\n",
      "     0     0     0     0     0     0     0     0     0     0     0     0\n",
      "     0     0     0     0     0     0     0     0     0     0     0     0\n",
      "     0     0     0     0     0     0     0     0     0     0     0     0\n",
      "     0     0     0     0     0     0     0     0     0     0     0     0\n",
      "     0     0     0     0     0     0     0     0     0     0     0     0\n",
      "     0     0     0     0     0     0     0     0     0     0     0     0\n",
      "     0     0     0     0     0     0     0     0     0     0     0     0\n",
      "     0     0     0     0     0     0     0     0]\n",
      "\n",
      "\n",
      "Labels: Counter({'<na>': 4475054, '<comma>': 360733, '<period>': 294389, '<question>': 26054, '<exclaim>': 2330, '<3-dots>': 1394})\n",
      "Class distribution: Counter({'<na>': 4475054, '<comma>': 360733, '<period>': 294389, '<question>': 26054, '<exclaim>': 2330, '<3-dots>': 1394})\n",
      "\n",
      "\n",
      "Number of unique labels: 7\n",
      "{'<na>': 1, '<comma>': 2, '<period>': 3, '<question>': 4, '<exclaim>': 5, '<3-dots>': 6, '<pad>': 0}\n",
      "\n",
      "\n",
      "Sample label: \t[1 1 2 1 1 1 1 1 1 1 3 0 0 0 0 0 0 0 0 0 0 0 0 0 0 0 0 0 0 0 0 0 0 0 0 0 0\n",
      " 0 0 0 0 0 0 0 0 0 0 0 0 0 0 0 0 0 0 0 0 0 0 0 0 0 0 0 0 0 0 0 0 0 0 0 0 0\n",
      " 0 0 0 0 0 0 0 0 0 0 0 0 0 0 0 0 0 0 0 0 0 0 0 0 0 0 0 0 0 0 0 0 0 0 0 0 0\n",
      " 0 0 0 0 0 0 0 0 0 0 0 0 0 0 0 0 0]\n",
      "\n",
      "\n",
      "Encoded label: \t[[0. 1. 0. 0. 0. 0. 0.]\n",
      " [0. 1. 0. 0. 0. 0. 0.]\n",
      " [0. 0. 1. 0. 0. 0. 0.]\n",
      " [0. 1. 0. 0. 0. 0. 0.]\n",
      " [0. 1. 0. 0. 0. 0. 0.]\n",
      " [0. 1. 0. 0. 0. 0. 0.]\n",
      " [0. 1. 0. 0. 0. 0. 0.]\n",
      " [0. 1. 0. 0. 0. 0. 0.]\n",
      " [0. 1. 0. 0. 0. 0. 0.]\n",
      " [0. 1. 0. 0. 0. 0. 0.]\n",
      " [0. 0. 0. 1. 0. 0. 0.]\n",
      " [1. 0. 0. 0. 0. 0. 0.]\n",
      " [1. 0. 0. 0. 0. 0. 0.]\n",
      " [1. 0. 0. 0. 0. 0. 0.]\n",
      " [1. 0. 0. 0. 0. 0. 0.]\n",
      " [1. 0. 0. 0. 0. 0. 0.]\n",
      " [1. 0. 0. 0. 0. 0. 0.]\n",
      " [1. 0. 0. 0. 0. 0. 0.]\n",
      " [1. 0. 0. 0. 0. 0. 0.]\n",
      " [1. 0. 0. 0. 0. 0. 0.]\n",
      " [1. 0. 0. 0. 0. 0. 0.]\n",
      " [1. 0. 0. 0. 0. 0. 0.]\n",
      " [1. 0. 0. 0. 0. 0. 0.]\n",
      " [1. 0. 0. 0. 0. 0. 0.]\n",
      " [1. 0. 0. 0. 0. 0. 0.]\n",
      " [1. 0. 0. 0. 0. 0. 0.]\n",
      " [1. 0. 0. 0. 0. 0. 0.]\n",
      " [1. 0. 0. 0. 0. 0. 0.]\n",
      " [1. 0. 0. 0. 0. 0. 0.]\n",
      " [1. 0. 0. 0. 0. 0. 0.]\n",
      " [1. 0. 0. 0. 0. 0. 0.]\n",
      " [1. 0. 0. 0. 0. 0. 0.]\n",
      " [1. 0. 0. 0. 0. 0. 0.]\n",
      " [1. 0. 0. 0. 0. 0. 0.]\n",
      " [1. 0. 0. 0. 0. 0. 0.]\n",
      " [1. 0. 0. 0. 0. 0. 0.]\n",
      " [1. 0. 0. 0. 0. 0. 0.]\n",
      " [1. 0. 0. 0. 0. 0. 0.]\n",
      " [1. 0. 0. 0. 0. 0. 0.]\n",
      " [1. 0. 0. 0. 0. 0. 0.]\n",
      " [1. 0. 0. 0. 0. 0. 0.]\n",
      " [1. 0. 0. 0. 0. 0. 0.]\n",
      " [1. 0. 0. 0. 0. 0. 0.]\n",
      " [1. 0. 0. 0. 0. 0. 0.]\n",
      " [1. 0. 0. 0. 0. 0. 0.]\n",
      " [1. 0. 0. 0. 0. 0. 0.]\n",
      " [1. 0. 0. 0. 0. 0. 0.]\n",
      " [1. 0. 0. 0. 0. 0. 0.]\n",
      " [1. 0. 0. 0. 0. 0. 0.]\n",
      " [1. 0. 0. 0. 0. 0. 0.]\n",
      " [1. 0. 0. 0. 0. 0. 0.]\n",
      " [1. 0. 0. 0. 0. 0. 0.]\n",
      " [1. 0. 0. 0. 0. 0. 0.]\n",
      " [1. 0. 0. 0. 0. 0. 0.]\n",
      " [1. 0. 0. 0. 0. 0. 0.]\n",
      " [1. 0. 0. 0. 0. 0. 0.]\n",
      " [1. 0. 0. 0. 0. 0. 0.]\n",
      " [1. 0. 0. 0. 0. 0. 0.]\n",
      " [1. 0. 0. 0. 0. 0. 0.]\n",
      " [1. 0. 0. 0. 0. 0. 0.]\n",
      " [1. 0. 0. 0. 0. 0. 0.]\n",
      " [1. 0. 0. 0. 0. 0. 0.]\n",
      " [1. 0. 0. 0. 0. 0. 0.]\n",
      " [1. 0. 0. 0. 0. 0. 0.]\n",
      " [1. 0. 0. 0. 0. 0. 0.]\n",
      " [1. 0. 0. 0. 0. 0. 0.]\n",
      " [1. 0. 0. 0. 0. 0. 0.]\n",
      " [1. 0. 0. 0. 0. 0. 0.]\n",
      " [1. 0. 0. 0. 0. 0. 0.]\n",
      " [1. 0. 0. 0. 0. 0. 0.]\n",
      " [1. 0. 0. 0. 0. 0. 0.]\n",
      " [1. 0. 0. 0. 0. 0. 0.]\n",
      " [1. 0. 0. 0. 0. 0. 0.]\n",
      " [1. 0. 0. 0. 0. 0. 0.]\n",
      " [1. 0. 0. 0. 0. 0. 0.]\n",
      " [1. 0. 0. 0. 0. 0. 0.]\n",
      " [1. 0. 0. 0. 0. 0. 0.]\n",
      " [1. 0. 0. 0. 0. 0. 0.]\n",
      " [1. 0. 0. 0. 0. 0. 0.]\n",
      " [1. 0. 0. 0. 0. 0. 0.]\n",
      " [1. 0. 0. 0. 0. 0. 0.]\n",
      " [1. 0. 0. 0. 0. 0. 0.]\n",
      " [1. 0. 0. 0. 0. 0. 0.]\n",
      " [1. 0. 0. 0. 0. 0. 0.]\n",
      " [1. 0. 0. 0. 0. 0. 0.]\n",
      " [1. 0. 0. 0. 0. 0. 0.]\n",
      " [1. 0. 0. 0. 0. 0. 0.]\n",
      " [1. 0. 0. 0. 0. 0. 0.]\n",
      " [1. 0. 0. 0. 0. 0. 0.]\n",
      " [1. 0. 0. 0. 0. 0. 0.]\n",
      " [1. 0. 0. 0. 0. 0. 0.]\n",
      " [1. 0. 0. 0. 0. 0. 0.]\n",
      " [1. 0. 0. 0. 0. 0. 0.]\n",
      " [1. 0. 0. 0. 0. 0. 0.]\n",
      " [1. 0. 0. 0. 0. 0. 0.]\n",
      " [1. 0. 0. 0. 0. 0. 0.]\n",
      " [1. 0. 0. 0. 0. 0. 0.]\n",
      " [1. 0. 0. 0. 0. 0. 0.]\n",
      " [1. 0. 0. 0. 0. 0. 0.]\n",
      " [1. 0. 0. 0. 0. 0. 0.]\n",
      " [1. 0. 0. 0. 0. 0. 0.]\n",
      " [1. 0. 0. 0. 0. 0. 0.]\n",
      " [1. 0. 0. 0. 0. 0. 0.]\n",
      " [1. 0. 0. 0. 0. 0. 0.]\n",
      " [1. 0. 0. 0. 0. 0. 0.]\n",
      " [1. 0. 0. 0. 0. 0. 0.]\n",
      " [1. 0. 0. 0. 0. 0. 0.]\n",
      " [1. 0. 0. 0. 0. 0. 0.]\n",
      " [1. 0. 0. 0. 0. 0. 0.]\n",
      " [1. 0. 0. 0. 0. 0. 0.]\n",
      " [1. 0. 0. 0. 0. 0. 0.]\n",
      " [1. 0. 0. 0. 0. 0. 0.]\n",
      " [1. 0. 0. 0. 0. 0. 0.]\n",
      " [1. 0. 0. 0. 0. 0. 0.]\n",
      " [1. 0. 0. 0. 0. 0. 0.]\n",
      " [1. 0. 0. 0. 0. 0. 0.]\n",
      " [1. 0. 0. 0. 0. 0. 0.]\n",
      " [1. 0. 0. 0. 0. 0. 0.]\n",
      " [1. 0. 0. 0. 0. 0. 0.]\n",
      " [1. 0. 0. 0. 0. 0. 0.]\n",
      " [1. 0. 0. 0. 0. 0. 0.]\n",
      " [1. 0. 0. 0. 0. 0. 0.]\n",
      " [1. 0. 0. 0. 0. 0. 0.]\n",
      " [1. 0. 0. 0. 0. 0. 0.]\n",
      " [1. 0. 0. 0. 0. 0. 0.]\n",
      " [1. 0. 0. 0. 0. 0. 0.]\n",
      " [1. 0. 0. 0. 0. 0. 0.]\n",
      " [1. 0. 0. 0. 0. 0. 0.]]\n",
      "\n",
      "\n",
      "Sequence and labels length check passed!\n"
     ]
    },
    {
     "name": "stdout",
     "output_type": "stream",
     "text": [
      "Training/Validation ted_data Dataset: \t(190402, 128) 190402\n",
      "Testing ted_data Dataset: \t\t\t(47601, 128) 47601\n"
     ]
    }
   ],
   "source": [
    "# Load custom dataset and labels (Applies to hybrid and baseline models)\n",
    "process_dataset(dataset_name)\n",
    "custom_data, custom_labels = load_processed_dataset(dataset_name)\n",
    "unique_vocab, no_classes, pad_seq, encoded_labels, vocab_to_int, label_to_int = tokenize_data(data=custom_data, \n",
    "                                                                                              labels=custom_labels, \n",
    "                                                                                              dataset_name=dataset_name)\n",
    "\n",
    "# Split custom dataset into training and validation\n",
    "train_val_x, test_x, train_val_y, test_y = split_data(pad_seq, encoded_labels, dataset_name=dataset_name)"
   ]
  },
  {
   "cell_type": "markdown",
   "metadata": {
    "colab_type": "text",
    "id": "UXnpwcCQ1lsX"
   },
   "source": [
    "#### Load MGE dataset. Splits data into training and validation sets"
   ]
  },
  {
   "cell_type": "code",
   "execution_count": 6,
   "metadata": {
    "colab": {},
    "colab_type": "code",
    "id": "ZbBD0LDh1lsY",
    "outputId": "28538c1c-6458-4cd0-8db9-b10279172e0e"
   },
   "outputs": [
    {
     "name": "stdout",
     "output_type": "stream",
     "text": [
      "Number of unique words: 76055\n",
      "\n",
      "\n",
      "Sample sequence: what do you miss of your old life\n",
      "\n",
      "\n",
      "Sample sequence: [ 23  29   6 561   7  42 190 197   0   0   0   0   0   0   0   0   0   0\n",
      "   0   0   0   0   0   0   0   0   0   0   0   0   0   0   0   0   0   0\n",
      "   0   0   0   0   0   0   0   0   0   0   0   0   0   0   0   0   0   0\n",
      "   0   0   0   0   0   0   0   0   0   0   0   0   0   0   0   0   0   0\n",
      "   0   0   0   0   0   0   0   0   0   0   0   0   0   0   0   0   0   0\n",
      "   0   0   0   0   0   0   0   0   0   0   0   0   0   0   0   0   0   0\n",
      "   0   0   0   0   0   0   0   0   0   0   0   0   0   0   0   0   0   0\n",
      "   0   0]\n",
      "\n",
      "\n",
      "Labels: Counter({'0': 5722741, '1': 582004, '2': 384732, '3': 109757, '4': 71598, '5': 30607})\n",
      "Class distribution: Counter({'0': 5722741, '1': 582004, '2': 384732, '3': 109757, '4': 71598, '5': 30607})\n",
      "\n",
      "\n",
      "Number of unique labels: 7\n",
      "{'0': 1, '1': 2, '2': 3, '3': 4, '4': 5, '5': 6, '<pad>': 0}\n",
      "\n",
      "\n",
      "Sample label: \t[1 1 1 1 1 1 1 4 0 0 0 0 0 0 0 0 0 0 0 0 0 0 0 0 0 0 0 0 0 0 0 0 0 0 0 0 0\n",
      " 0 0 0 0 0 0 0 0 0 0 0 0 0 0 0 0 0 0 0 0 0 0 0 0 0 0 0 0 0 0 0 0 0 0 0 0 0\n",
      " 0 0 0 0 0 0 0 0 0 0 0 0 0 0 0 0 0 0 0 0 0 0 0 0 0 0 0 0 0 0 0 0 0 0 0 0 0\n",
      " 0 0 0 0 0 0 0 0 0 0 0 0 0 0 0 0 0]\n",
      "\n",
      "\n",
      "Encoded label: \t[[0. 1. 0. 0. 0. 0. 0.]\n",
      " [0. 1. 0. 0. 0. 0. 0.]\n",
      " [0. 1. 0. 0. 0. 0. 0.]\n",
      " [0. 1. 0. 0. 0. 0. 0.]\n",
      " [0. 1. 0. 0. 0. 0. 0.]\n",
      " [0. 1. 0. 0. 0. 0. 0.]\n",
      " [0. 1. 0. 0. 0. 0. 0.]\n",
      " [0. 0. 0. 0. 1. 0. 0.]\n",
      " [1. 0. 0. 0. 0. 0. 0.]\n",
      " [1. 0. 0. 0. 0. 0. 0.]\n",
      " [1. 0. 0. 0. 0. 0. 0.]\n",
      " [1. 0. 0. 0. 0. 0. 0.]\n",
      " [1. 0. 0. 0. 0. 0. 0.]\n",
      " [1. 0. 0. 0. 0. 0. 0.]\n",
      " [1. 0. 0. 0. 0. 0. 0.]\n",
      " [1. 0. 0. 0. 0. 0. 0.]\n",
      " [1. 0. 0. 0. 0. 0. 0.]\n",
      " [1. 0. 0. 0. 0. 0. 0.]\n",
      " [1. 0. 0. 0. 0. 0. 0.]\n",
      " [1. 0. 0. 0. 0. 0. 0.]\n",
      " [1. 0. 0. 0. 0. 0. 0.]\n",
      " [1. 0. 0. 0. 0. 0. 0.]\n",
      " [1. 0. 0. 0. 0. 0. 0.]\n",
      " [1. 0. 0. 0. 0. 0. 0.]\n",
      " [1. 0. 0. 0. 0. 0. 0.]\n",
      " [1. 0. 0. 0. 0. 0. 0.]\n",
      " [1. 0. 0. 0. 0. 0. 0.]\n",
      " [1. 0. 0. 0. 0. 0. 0.]\n",
      " [1. 0. 0. 0. 0. 0. 0.]\n",
      " [1. 0. 0. 0. 0. 0. 0.]\n",
      " [1. 0. 0. 0. 0. 0. 0.]\n",
      " [1. 0. 0. 0. 0. 0. 0.]\n",
      " [1. 0. 0. 0. 0. 0. 0.]\n",
      " [1. 0. 0. 0. 0. 0. 0.]\n",
      " [1. 0. 0. 0. 0. 0. 0.]\n",
      " [1. 0. 0. 0. 0. 0. 0.]\n",
      " [1. 0. 0. 0. 0. 0. 0.]\n",
      " [1. 0. 0. 0. 0. 0. 0.]\n",
      " [1. 0. 0. 0. 0. 0. 0.]\n",
      " [1. 0. 0. 0. 0. 0. 0.]\n",
      " [1. 0. 0. 0. 0. 0. 0.]\n",
      " [1. 0. 0. 0. 0. 0. 0.]\n",
      " [1. 0. 0. 0. 0. 0. 0.]\n",
      " [1. 0. 0. 0. 0. 0. 0.]\n",
      " [1. 0. 0. 0. 0. 0. 0.]\n",
      " [1. 0. 0. 0. 0. 0. 0.]\n",
      " [1. 0. 0. 0. 0. 0. 0.]\n",
      " [1. 0. 0. 0. 0. 0. 0.]\n",
      " [1. 0. 0. 0. 0. 0. 0.]\n",
      " [1. 0. 0. 0. 0. 0. 0.]\n",
      " [1. 0. 0. 0. 0. 0. 0.]\n",
      " [1. 0. 0. 0. 0. 0. 0.]\n",
      " [1. 0. 0. 0. 0. 0. 0.]\n",
      " [1. 0. 0. 0. 0. 0. 0.]\n",
      " [1. 0. 0. 0. 0. 0. 0.]\n",
      " [1. 0. 0. 0. 0. 0. 0.]\n",
      " [1. 0. 0. 0. 0. 0. 0.]\n",
      " [1. 0. 0. 0. 0. 0. 0.]\n",
      " [1. 0. 0. 0. 0. 0. 0.]\n",
      " [1. 0. 0. 0. 0. 0. 0.]\n",
      " [1. 0. 0. 0. 0. 0. 0.]\n",
      " [1. 0. 0. 0. 0. 0. 0.]\n",
      " [1. 0. 0. 0. 0. 0. 0.]\n",
      " [1. 0. 0. 0. 0. 0. 0.]\n",
      " [1. 0. 0. 0. 0. 0. 0.]\n",
      " [1. 0. 0. 0. 0. 0. 0.]\n",
      " [1. 0. 0. 0. 0. 0. 0.]\n",
      " [1. 0. 0. 0. 0. 0. 0.]\n",
      " [1. 0. 0. 0. 0. 0. 0.]\n",
      " [1. 0. 0. 0. 0. 0. 0.]\n",
      " [1. 0. 0. 0. 0. 0. 0.]\n",
      " [1. 0. 0. 0. 0. 0. 0.]\n",
      " [1. 0. 0. 0. 0. 0. 0.]\n",
      " [1. 0. 0. 0. 0. 0. 0.]\n",
      " [1. 0. 0. 0. 0. 0. 0.]\n",
      " [1. 0. 0. 0. 0. 0. 0.]\n",
      " [1. 0. 0. 0. 0. 0. 0.]\n",
      " [1. 0. 0. 0. 0. 0. 0.]\n",
      " [1. 0. 0. 0. 0. 0. 0.]\n",
      " [1. 0. 0. 0. 0. 0. 0.]\n",
      " [1. 0. 0. 0. 0. 0. 0.]\n",
      " [1. 0. 0. 0. 0. 0. 0.]\n",
      " [1. 0. 0. 0. 0. 0. 0.]\n",
      " [1. 0. 0. 0. 0. 0. 0.]\n",
      " [1. 0. 0. 0. 0. 0. 0.]\n",
      " [1. 0. 0. 0. 0. 0. 0.]\n",
      " [1. 0. 0. 0. 0. 0. 0.]\n",
      " [1. 0. 0. 0. 0. 0. 0.]\n",
      " [1. 0. 0. 0. 0. 0. 0.]\n",
      " [1. 0. 0. 0. 0. 0. 0.]\n",
      " [1. 0. 0. 0. 0. 0. 0.]\n",
      " [1. 0. 0. 0. 0. 0. 0.]\n",
      " [1. 0. 0. 0. 0. 0. 0.]\n",
      " [1. 0. 0. 0. 0. 0. 0.]\n",
      " [1. 0. 0. 0. 0. 0. 0.]\n",
      " [1. 0. 0. 0. 0. 0. 0.]\n",
      " [1. 0. 0. 0. 0. 0. 0.]\n",
      " [1. 0. 0. 0. 0. 0. 0.]\n",
      " [1. 0. 0. 0. 0. 0. 0.]\n",
      " [1. 0. 0. 0. 0. 0. 0.]\n",
      " [1. 0. 0. 0. 0. 0. 0.]\n",
      " [1. 0. 0. 0. 0. 0. 0.]\n",
      " [1. 0. 0. 0. 0. 0. 0.]\n",
      " [1. 0. 0. 0. 0. 0. 0.]\n",
      " [1. 0. 0. 0. 0. 0. 0.]\n",
      " [1. 0. 0. 0. 0. 0. 0.]\n",
      " [1. 0. 0. 0. 0. 0. 0.]\n",
      " [1. 0. 0. 0. 0. 0. 0.]\n",
      " [1. 0. 0. 0. 0. 0. 0.]\n",
      " [1. 0. 0. 0. 0. 0. 0.]\n",
      " [1. 0. 0. 0. 0. 0. 0.]\n",
      " [1. 0. 0. 0. 0. 0. 0.]\n",
      " [1. 0. 0. 0. 0. 0. 0.]\n",
      " [1. 0. 0. 0. 0. 0. 0.]\n",
      " [1. 0. 0. 0. 0. 0. 0.]\n",
      " [1. 0. 0. 0. 0. 0. 0.]\n",
      " [1. 0. 0. 0. 0. 0. 0.]\n",
      " [1. 0. 0. 0. 0. 0. 0.]\n",
      " [1. 0. 0. 0. 0. 0. 0.]\n",
      " [1. 0. 0. 0. 0. 0. 0.]\n",
      " [1. 0. 0. 0. 0. 0. 0.]\n",
      " [1. 0. 0. 0. 0. 0. 0.]\n",
      " [1. 0. 0. 0. 0. 0. 0.]\n",
      " [1. 0. 0. 0. 0. 0. 0.]\n",
      " [1. 0. 0. 0. 0. 0. 0.]\n",
      " [1. 0. 0. 0. 0. 0. 0.]\n",
      " [1. 0. 0. 0. 0. 0. 0.]\n",
      " [1. 0. 0. 0. 0. 0. 0.]]\n",
      "\n",
      "\n",
      "Sequence and labels length check passed!\n",
      "Training/Validation mge Dataset: \t(227548, 128) 227548\n",
      "Testing mge Dataset: \t\t\t(56888, 128) 56888\n"
     ]
    }
   ],
   "source": [
    "# Load MGE dataset and labels\n",
    "mge_data, mge_labels = load_processed_dataset('mge')\n",
    "mge_unique_vocab, mge_no_classes, mge_pad_seq, mge_encoded_labels, mge_vocab_to_int, mge_label_to_int =  \\\n",
    "                                                tokenize_data(data=mge_data, labels=mge_labels, dataset_name='mge')\n",
    "\n",
    "# Split MGE dataset into training and validation\n",
    "mge_train_val_x, mge_test_x, mge_train_val_y, mge_test_y = split_data(mge_pad_seq, mge_encoded_labels, dataset_name='mge')"
   ]
  },
  {
   "cell_type": "markdown",
   "metadata": {
    "colab_type": "text",
    "id": "wTRDnHMY1lsb"
   },
   "source": [
    "#### Load and process Glove embeddings"
   ]
  },
  {
   "cell_type": "code",
   "execution_count": 8,
   "metadata": {
    "colab": {},
    "colab_type": "code",
    "id": "aSXPgf2F1lsc",
    "outputId": "480ae494-609c-4608-fb8f-246fab8fb510"
   },
   "outputs": [
    {
     "name": "stdout",
     "output_type": "stream",
     "text": [
      "400000 word vectors\n"
     ]
    }
   ],
   "source": [
    "# Load glove pre-trained vectors\n",
    "glove_index = dict()\n",
    "f = open('./data/embeddings/glove.6B.300d.txt', encoding='utf-8')\n",
    "for line in f:\n",
    "    values = line.split()\n",
    "    word = values[0]\n",
    "    coefs = np.asarray(values[1:], dtype='float32')\n",
    "    glove_index[word] = coefs\n",
    "f.close()\n",
    "print('{} word vectors'.format(len(glove_index)))\n",
    "\n",
    "embed_matrix = np.zeros((unique_vocab, embed_dim))\n",
    "for word, i in vocab_to_int.items():\n",
    "    embedding_vector = glove_index.get(word)\n",
    "    if embedding_vector is not None:\n",
    "        embed_matrix[i] = embedding_vector"
   ]
  },
  {
   "cell_type": "markdown",
   "metadata": {
    "colab_type": "text",
    "id": "KDGFlbQw1lsf"
   },
   "source": [
    "#### <a name='model'> Hybrid Model Architecture </a>\n",
    "\n",
    "The model consists of a few parts:\n",
    "\n",
    "1. Embedding Layer:  \n",
    "    * While it is possible to initialize and use a new empty embedding for the network to train and learn on, using a pre-trained embedding improves the model performance\n",
    "    *  Matrix of weights extracted from the Glove pre-trained word vectors based on the number of unique words in the dataset\n",
    "    \n",
    "    \n",
    "2. CNN Layers:\n",
    "    * For each sequence in the dataset, a convolution window of x (Where x is the kernel size) is applied, capturing the morphological and feature information of x words at a time\n",
    "    * 3 CNN layers each generating 128 filters with 3, 5 and 7 kernel sizes. \n",
    "    * Stride 1 is used and padding is applied (SAME) to keep the output length same as the input.\n",
    "    * Outputs from the CNN layers are then concatenated and reshaped\n",
    "    * They are then fed through a dense layer with ReLU activation to learn about their non-linear relationships \n",
    "\n",
    "\n",
    "3. BiLSTM Layer\n",
    "    * Outputs from dense layer are then fed into a BiLSTM layer to learn about the structure and dependencies of the sequences\n",
    "    *  A final Time Distributed dense layer is applied to make predictions on each word in the sequences\n",
    "    \n",
    "Two additional models will be trained:\n",
    "1. Similar Hybrid model trained using the MGE dataset\n",
    "2. Baseline BiLSTM model trained using the Ted Talks dataset\n",
    "\n",
    "Results from these three models will be compared and discussed below in the Results section.\n",
    "    \n",
    "![Model Architecture](./images/hybrid_model.png)"
   ]
  },
  {
   "cell_type": "markdown",
   "metadata": {
    "colab_type": "text",
    "id": "S0CnSOpn1lsg"
   },
   "source": [
    "#### Create, fit and train hybrid model. Best trained model will be saved"
   ]
  },
  {
   "cell_type": "code",
   "execution_count": 8,
   "metadata": {
    "colab": {},
    "colab_type": "code",
    "id": "W66g6y6p1lsh",
    "outputId": "0badd3e3-970d-4935-c228-b4ebd282d455",
    "scrolled": true
   },
   "outputs": [
    {
     "name": "stdout",
     "output_type": "stream",
     "text": [
      "__________________________________________________________________________________________________\n",
      "Layer (type)                    Output Shape         Param #     Connected to                     \n",
      "==================================================================================================\n",
      "input_1 (InputLayer)            (None, 128)          0                                            \n",
      "__________________________________________________________________________________________________\n",
      "embedding_1 (Embedding)         (None, 128, 300)     31473000    input_1[0][0]                    \n",
      "__________________________________________________________________________________________________\n",
      "dropout_1 (Dropout)             (None, 128, 300)     0           embedding_1[0][0]                \n",
      "__________________________________________________________________________________________________\n",
      "conv1d_1 (Conv1D)               (None, 128, 64)      57664       dropout_1[0][0]                  \n",
      "__________________________________________________________________________________________________\n",
      "conv1d_2 (Conv1D)               (None, 128, 64)      96064       dropout_1[0][0]                  \n",
      "__________________________________________________________________________________________________\n",
      "conv1d_3 (Conv1D)               (None, 128, 64)      134464      dropout_1[0][0]                  \n",
      "__________________________________________________________________________________________________\n",
      "concatenate_1 (Concatenate)     (None, 128, 192)     0           conv1d_1[0][0]                   \n",
      "                                                                 conv1d_2[0][0]                   \n",
      "                                                                 conv1d_3[0][0]                   \n",
      "__________________________________________________________________________________________________\n",
      "dropout_2 (Dropout)             (None, 128, 192)     0           concatenate_1[0][0]              \n",
      "__________________________________________________________________________________________________\n",
      "reshape_1 (Reshape)             (None, 128, 192)     0           dropout_2[0][0]                  \n",
      "__________________________________________________________________________________________________\n",
      "dense_1 (Dense)                 (None, 128, 1024)    197632      reshape_1[0][0]                  \n",
      "__________________________________________________________________________________________________\n",
      "dropout_3 (Dropout)             (None, 128, 1024)    0           dense_1[0][0]                    \n",
      "__________________________________________________________________________________________________\n",
      "bidirectional_1 (Bidirectional) (None, 128, 2048)    16785408    dropout_3[0][0]                  \n",
      "__________________________________________________________________________________________________\n",
      "dropout_4 (Dropout)             (None, 128, 2048)    0           bidirectional_1[0][0]            \n",
      "__________________________________________________________________________________________________\n",
      "time_distributed_1 (TimeDistrib (None, 128, 7)       14343       dropout_4[0][0]                  \n",
      "==================================================================================================\n",
      "Total params: 48,758,575\n",
      "Trainable params: 17,285,575\n",
      "Non-trainable params: 31,473,000\n",
      "__________________________________________________________________________________________________\n",
      "Train on 133281 samples, validate on 57121 samples\n",
      "Epoch 1/30\n",
      "133281/133281 [==============================] - 1285s 10ms/step - loss: 0.0393 - acc: 0.9876 - val_loss: 0.0321 - val_acc: 0.9888\n",
      "\n",
      "Epoch 00001: val_loss improved from inf to 0.03213, saving model to ./models/ted_data_model.h5\n",
      "Epoch 2/30\n",
      "133281/133281 [==============================] - 1261s 9ms/step - loss: 0.0300 - acc: 0.9897 - val_loss: 0.0287 - val_acc: 0.9900\n",
      "\n",
      "Epoch 00002: val_loss improved from 0.03213 to 0.02875, saving model to ./models/ted_data_model.h5\n",
      "Epoch 3/30\n",
      "133281/133281 [==============================] - 1270s 10ms/step - loss: 0.0276 - acc: 0.9903 - val_loss: 0.0268 - val_acc: 0.9905\n",
      "\n",
      "Epoch 00003: val_loss improved from 0.02875 to 0.02682, saving model to ./models/ted_data_model.h5\n",
      "Epoch 4/30\n",
      "133281/133281 [==============================] - 1280s 10ms/step - loss: 0.0261 - acc: 0.9907 - val_loss: 0.0260 - val_acc: 0.9908\n",
      "\n",
      "Epoch 00004: val_loss improved from 0.02682 to 0.02596, saving model to ./models/ted_data_model.h5\n",
      "Epoch 5/30\n",
      "133281/133281 [==============================] - 1270s 10ms/step - loss: 0.0251 - acc: 0.9911 - val_loss: 0.0253 - val_acc: 0.9910\n",
      "\n",
      "Epoch 00005: val_loss improved from 0.02596 to 0.02534, saving model to ./models/ted_data_model.h5\n",
      "Epoch 6/30\n",
      "133281/133281 [==============================] - 1259s 9ms/step - loss: 0.0244 - acc: 0.9913 - val_loss: 0.0248 - val_acc: 0.9911\n",
      "\n",
      "Epoch 00006: val_loss improved from 0.02534 to 0.02480, saving model to ./models/ted_data_model.h5\n",
      "Epoch 7/30\n",
      "133281/133281 [==============================] - 1265s 9ms/step - loss: 0.0237 - acc: 0.9915 - val_loss: 0.0242 - val_acc: 0.9914\n",
      "\n",
      "Epoch 00007: val_loss improved from 0.02480 to 0.02416, saving model to ./models/ted_data_model.h5\n",
      "Epoch 8/30\n",
      "133281/133281 [==============================] - 1280s 10ms/step - loss: 0.0232 - acc: 0.9916 - val_loss: 0.0239 - val_acc: 0.9914\n",
      "\n",
      "Epoch 00008: val_loss improved from 0.02416 to 0.02391, saving model to ./models/ted_data_model.h5\n",
      "Epoch 9/30\n",
      "133281/133281 [==============================] - 1258s 9ms/step - loss: 0.0229 - acc: 0.9917 - val_loss: 0.0238 - val_acc: 0.9915\n",
      "\n",
      "Epoch 00009: val_loss improved from 0.02391 to 0.02378, saving model to ./models/ted_data_model.h5\n",
      "Epoch 10/30\n",
      "133281/133281 [==============================] - 1255s 9ms/step - loss: 0.0225 - acc: 0.9918 - val_loss: 0.0236 - val_acc: 0.9915\n",
      "\n",
      "Epoch 00010: val_loss improved from 0.02378 to 0.02361, saving model to ./models/ted_data_model.h5\n",
      "Epoch 11/30\n",
      "133281/133281 [==============================] - 1250s 9ms/step - loss: 0.0222 - acc: 0.9919 - val_loss: 0.0234 - val_acc: 0.9916\n",
      "\n",
      "Epoch 00011: val_loss improved from 0.02361 to 0.02340, saving model to ./models/ted_data_model.h5\n",
      "Epoch 12/30\n",
      "133281/133281 [==============================] - 1236s 9ms/step - loss: 0.0220 - acc: 0.9920 - val_loss: 0.0234 - val_acc: 0.9917\n",
      "\n",
      "Epoch 00012: val_loss improved from 0.02340 to 0.02335, saving model to ./models/ted_data_model.h5\n",
      "Epoch 13/30\n",
      "133281/133281 [==============================] - 1240s 9ms/step - loss: 0.0218 - acc: 0.9920 - val_loss: 0.0233 - val_acc: 0.9917\n",
      "\n",
      "Epoch 00013: val_loss improved from 0.02335 to 0.02327, saving model to ./models/ted_data_model.h5\n",
      "Epoch 14/30\n",
      "133281/133281 [==============================] - 1241s 9ms/step - loss: 0.0216 - acc: 0.9921 - val_loss: 0.0232 - val_acc: 0.9917\n",
      "\n",
      "Epoch 00014: val_loss improved from 0.02327 to 0.02316, saving model to ./models/ted_data_model.h5\n",
      "Epoch 15/30\n",
      "133281/133281 [==============================] - 1242s 9ms/step - loss: 0.0214 - acc: 0.9922 - val_loss: 0.0231 - val_acc: 0.9918\n",
      "\n",
      "Epoch 00015: val_loss improved from 0.02316 to 0.02305, saving model to ./models/ted_data_model.h5\n",
      "Epoch 16/30\n",
      "133281/133281 [==============================] - 1244s 9ms/step - loss: 0.0212 - acc: 0.9922 - val_loss: 0.0232 - val_acc: 0.9917\n",
      "\n",
      "Epoch 00016: val_loss did not improve from 0.02305\n",
      "Epoch 17/30\n",
      "133281/133281 [==============================] - 1262s 9ms/step - loss: 0.0211 - acc: 0.9923 - val_loss: 0.0229 - val_acc: 0.9918\n",
      "\n",
      "Epoch 00017: val_loss improved from 0.02305 to 0.02287, saving model to ./models/ted_data_model.h5\n",
      "Epoch 18/30\n",
      "133281/133281 [==============================] - 1265s 9ms/step - loss: 0.0209 - acc: 0.9923 - val_loss: 0.0232 - val_acc: 0.9918\n",
      "\n",
      "Epoch 00018: val_loss did not improve from 0.02287\n",
      "Epoch 19/30\n",
      "133281/133281 [==============================] - 1274s 10ms/step - loss: 0.0208 - acc: 0.9923 - val_loss: 0.0229 - val_acc: 0.9918\n",
      "\n",
      "Epoch 00019: val_loss did not improve from 0.02287\n",
      "Epoch 00019: early stopping\n",
      "Time taken: 23955.13566303253 seconds\n"
     ]
    }
   ],
   "source": [
    "hybrid = create_model(max_seq_len=max_seq_len, input_dim=unique_vocab, output_dim=embed_dim, embed_weights=embed_matrix, \n",
    "                seq_len=max_seq_len, trainable=trainable, drop_prob=drop_prob, lstm_hidden_2=lstm_hidden_2, \n",
    "                no_classes=no_classes, model_type='hybrid', lstm_hidden=lstm_hidden, filter_sizes=filter_sizes, \n",
    "                kernel_size=kernels, kernel_initializer=kernel_weight, bias_initializer=bias, \n",
    "                activation=cnn_activation, padding=cnn_padding)\n",
    "hybrid.summary()\n",
    "plot_model(hybrid, to_file='hybrid_model.png', show_shapes=True)\n",
    "\n",
    "# Fit, train and evaluate model\n",
    "early_s, chkpt, tensor_b = set_callbacks(monitor, patience, dataset_name, save_best_only, batch_size)\n",
    "\n",
    "start = time.time()\n",
    "hybrid = hybrid.fit(x=train_val_x, y=np.array(train_val_y), batch_size=batch_size, epochs=epochs, \n",
    "          validation_split=valid_split, shuffle=True, verbose=1, callbacks=[early_s, chkpt, tensor_b])\n",
    "\n",
    "print('Time taken: {} seconds'.format(time.time()-start))"
   ]
  },
  {
   "cell_type": "code",
   "execution_count": 8,
   "metadata": {
    "scrolled": true
   },
   "outputs": [
    {
     "name": "stdout",
     "output_type": "stream",
     "text": [
      "Train on 133281 samples, validate on 57121 samples\n",
      "Epoch 1/30\n",
      "133281/133281 [==============================] - 1331s 10ms/step - loss: 0.0352 - acc: 0.9887 - val_loss: 0.0286 - val_acc: 0.9900\n",
      "\n",
      "Epoch 00001: val_loss improved from inf to 0.02857, saving model to ./models/ted_data_train_model.h5\n",
      "Epoch 2/30\n",
      "133281/133281 [==============================] - 1334s 10ms/step - loss: 0.0251 - acc: 0.9912 - val_loss: 0.0256 - val_acc: 0.9909\n",
      "\n",
      "Epoch 00002: val_loss improved from 0.02857 to 0.02556, saving model to ./models/ted_data_train_model.h5\n",
      "Epoch 3/30\n",
      "133281/133281 [==============================] - 1331s 10ms/step - loss: 0.0223 - acc: 0.9921 - val_loss: 0.0247 - val_acc: 0.9912\n",
      "\n",
      "Epoch 00003: val_loss improved from 0.02556 to 0.02473, saving model to ./models/ted_data_train_model.h5\n",
      "Epoch 4/30\n",
      "133281/133281 [==============================] - 1318s 10ms/step - loss: 0.0206 - acc: 0.9926 - val_loss: 0.0241 - val_acc: 0.9914\n",
      "\n",
      "Epoch 00004: val_loss improved from 0.02473 to 0.02413, saving model to ./models/ted_data_train_model.h5\n",
      "Epoch 5/30\n",
      "133281/133281 [==============================] - 1323s 10ms/step - loss: 0.0193 - acc: 0.9931 - val_loss: 0.0241 - val_acc: 0.9915\n",
      "\n",
      "Epoch 00005: val_loss did not improve from 0.02413\n",
      "Epoch 6/30\n",
      "133281/133281 [==============================] - 1322s 10ms/step - loss: 0.0182 - acc: 0.9934 - val_loss: 0.0240 - val_acc: 0.9915\n",
      "\n",
      "Epoch 00006: val_loss improved from 0.02413 to 0.02405, saving model to ./models/ted_data_train_model.h5\n",
      "Epoch 7/30\n",
      "133281/133281 [==============================] - 1325s 10ms/step - loss: 0.0173 - acc: 0.9937 - val_loss: 0.0243 - val_acc: 0.9915\n",
      "\n",
      "Epoch 00007: val_loss did not improve from 0.02405\n",
      "Epoch 8/30\n",
      "133281/133281 [==============================] - 1328s 10ms/step - loss: 0.0165 - acc: 0.9940 - val_loss: 0.0249 - val_acc: 0.9913\n",
      "\n",
      "Epoch 00008: val_loss did not improve from 0.02405\n",
      "Epoch 00008: early stopping\n"
     ]
    }
   ],
   "source": [
    "hybrid_train = create_model(max_seq_len=max_seq_len, input_dim=unique_vocab, output_dim=embed_dim, embed_weights=embed_matrix, \n",
    "                seq_len=max_seq_len, trainable=True, drop_prob=drop_prob, lstm_hidden_2=lstm_hidden_2, \n",
    "                no_classes=no_classes, model_type='hybrid', lstm_hidden=lstm_hidden, filter_sizes=filter_sizes, \n",
    "                kernel_size=kernels, kernel_initializer=kernel_weight, bias_initializer=bias, \n",
    "                activation=cnn_activation, padding=cnn_padding)\n",
    "\n",
    "\n",
    "# Fit, train and evaluate model\n",
    "early_s_train = EarlyStopping(monitor=monitor, patience=patience, verbose=1)\n",
    "chkpt_train = ModelCheckpoint(filepath='./models/'+dataset_name+'_train_model.h5',\n",
    "                        monitor=monitor, save_best_only=save_best_only, verbose=1)\n",
    "\n",
    "\n",
    "hybrid_train = hybrid_train.fit(x=train_val_x, y=np.array(train_val_y), batch_size=batch_size, epochs=epochs, \n",
    "          validation_split=valid_split, shuffle=True, verbose=1, callbacks=[early_s_train, chkpt_train])"
   ]
  },
  {
   "cell_type": "markdown",
   "metadata": {
    "colab_type": "text",
    "id": "YpjKhS091lsm"
   },
   "source": [
    "#### Create, fit and train baseline model. Best trained model will be saved"
   ]
  },
  {
   "cell_type": "code",
   "execution_count": 9,
   "metadata": {
    "colab": {},
    "colab_type": "code",
    "id": "YMcmihSu1lsn",
    "outputId": "0ad8cf66-4fdb-44d3-8fd6-686cbeaaf7ac",
    "scrolled": true
   },
   "outputs": [
    {
     "name": "stdout",
     "output_type": "stream",
     "text": [
      "_________________________________________________________________\n",
      "Layer (type)                 Output Shape              Param #   \n",
      "=================================================================\n",
      "input_2 (InputLayer)         (None, 128)               0         \n",
      "_________________________________________________________________\n",
      "embedding_2 (Embedding)      (None, 128, 300)          31473000  \n",
      "_________________________________________________________________\n",
      "dropout_5 (Dropout)          (None, 128, 300)          0         \n",
      "_________________________________________________________________\n",
      "bidirectional_2 (Bidirection (None, 128, 2048)         10854400  \n",
      "_________________________________________________________________\n",
      "dropout_6 (Dropout)          (None, 128, 2048)         0         \n",
      "_________________________________________________________________\n",
      "time_distributed_2 (TimeDist (None, 128, 7)            14343     \n",
      "=================================================================\n",
      "Total params: 42,341,743\n",
      "Trainable params: 10,868,743\n",
      "Non-trainable params: 31,473,000\n",
      "_________________________________________________________________\n",
      "Train on 133281 samples, validate on 57121 samples\n",
      "Epoch 1/30\n",
      "133281/133281 [==============================] - 994s 7ms/step - loss: 0.0411 - acc: 0.9873 - val_loss: 0.0320 - val_acc: 0.9888\n",
      "\n",
      "Epoch 00001: val_loss improved from inf to 0.03197, saving model to ./models/baseline_model.h5\n",
      "Epoch 2/30\n",
      "133281/133281 [==============================] - 992s 7ms/step - loss: 0.0285 - acc: 0.9901 - val_loss: 0.0282 - val_acc: 0.9901\n",
      "\n",
      "Epoch 00002: val_loss improved from 0.03197 to 0.02816, saving model to ./models/baseline_model.h5\n",
      "Epoch 3/30\n",
      "133281/133281 [==============================] - 980s 7ms/step - loss: 0.0258 - acc: 0.9910 - val_loss: 0.0271 - val_acc: 0.9905\n",
      "\n",
      "Epoch 00003: val_loss improved from 0.02816 to 0.02713, saving model to ./models/baseline_model.h5\n",
      "Epoch 4/30\n",
      "133281/133281 [==============================] - 981s 7ms/step - loss: 0.0240 - acc: 0.9914 - val_loss: 0.0259 - val_acc: 0.9909\n",
      "\n",
      "Epoch 00004: val_loss improved from 0.02713 to 0.02593, saving model to ./models/baseline_model.h5\n",
      "Epoch 5/30\n",
      "133281/133281 [==============================] - 1010s 8ms/step - loss: 0.0223 - acc: 0.9920 - val_loss: 0.0253 - val_acc: 0.9911\n",
      "\n",
      "Epoch 00005: val_loss improved from 0.02593 to 0.02534, saving model to ./models/baseline_model.h5\n",
      "Epoch 6/30\n",
      "133281/133281 [==============================] - 1022s 8ms/step - loss: 0.0207 - acc: 0.9925 - val_loss: 0.0254 - val_acc: 0.9911\n",
      "\n",
      "Epoch 00006: val_loss did not improve from 0.02534\n",
      "Epoch 7/30\n",
      "133281/133281 [==============================] - 1070s 8ms/step - loss: 0.0192 - acc: 0.9929 - val_loss: 0.0256 - val_acc: 0.9911\n",
      "\n",
      "Epoch 00007: val_loss did not improve from 0.02534\n",
      "Epoch 00007: early stopping\n",
      "Time taken: 7065.916831493378 seconds\n"
     ]
    }
   ],
   "source": [
    "baseline = create_model(max_seq_len=max_seq_len, input_dim=unique_vocab, output_dim=embed_dim,\n",
    "                embed_weights=embed_matrix, seq_len=max_seq_len, trainable=trainable, drop_prob=drop_prob, \n",
    "                lstm_hidden_2=lstm_hidden_2, no_classes=no_classes, model_type='baseline')\n",
    "baseline.summary()\n",
    "plot_model(baseline, to_file='baseline_model.png', show_shapes=True)\n",
    "\n",
    "# Fit, train and evaluate model\n",
    "early_s, chkpt, tensor_b = set_callbacks(monitor, patience, 'baseline', save_best_only, batch_size)\n",
    "\n",
    "baseline = baseline.fit(x=train_val_x, y=np.array(train_val_y), batch_size=batch_size, epochs=epochs, \n",
    "          validation_split=valid_split, shuffle=True, verbose=1, callbacks=[early_s, chkpt, tensor_b])"
   ]
  },
  {
   "cell_type": "code",
   "execution_count": 8,
   "metadata": {
    "scrolled": true
   },
   "outputs": [
    {
     "name": "stdout",
     "output_type": "stream",
     "text": [
      "Train on 133281 samples, validate on 57121 samples\n",
      "Epoch 1/30\n",
      "133281/133281 [==============================] - 1328s 10ms/step - loss: 0.0352 - acc: 0.9887 - val_loss: 0.0286 - val_acc: 0.9901\n",
      "\n",
      "Epoch 00001: val_loss improved from inf to 0.02857, saving model to ./models/baseline_train_model.h5\n",
      "Epoch 2/30\n",
      "133281/133281 [==============================] - 1352s 10ms/step - loss: 0.0252 - acc: 0.9912 - val_loss: 0.0255 - val_acc: 0.9909\n",
      "\n",
      "Epoch 00002: val_loss improved from 0.02857 to 0.02554, saving model to ./models/baseline_train_model.h5\n",
      "Epoch 3/30\n",
      "133281/133281 [==============================] - 1364s 10ms/step - loss: 0.0223 - acc: 0.9921 - val_loss: 0.0247 - val_acc: 0.9912\n",
      "\n",
      "Epoch 00003: val_loss improved from 0.02554 to 0.02470, saving model to ./models/baseline_train_model.h5\n",
      "Epoch 4/30\n",
      "133281/133281 [==============================] - 1367s 10ms/step - loss: 0.0206 - acc: 0.9926 - val_loss: 0.0241 - val_acc: 0.9915\n",
      "\n",
      "Epoch 00004: val_loss improved from 0.02470 to 0.02407, saving model to ./models/baseline_train_model.h5\n",
      "Epoch 5/30\n",
      "133281/133281 [==============================] - 1368s 10ms/step - loss: 0.0193 - acc: 0.9931 - val_loss: 0.0242 - val_acc: 0.9915\n",
      "\n",
      "Epoch 00005: val_loss did not improve from 0.02407\n",
      "Epoch 6/30\n",
      "133281/133281 [==============================] - 1366s 10ms/step - loss: 0.0182 - acc: 0.9934 - val_loss: 0.0241 - val_acc: 0.9915\n",
      "\n",
      "Epoch 00006: val_loss did not improve from 0.02407\n",
      "Epoch 00006: early stopping\n"
     ]
    }
   ],
   "source": [
    "baseline_train = create_model(max_seq_len=max_seq_len, input_dim=unique_vocab, output_dim=embed_dim, \n",
    "                              embed_weights=embed_matrix, seq_len=max_seq_len, trainable=True, drop_prob=drop_prob, \n",
    "                              lstm_hidden_2=lstm_hidden_2, no_classes=no_classes, model_type='baseline', \n",
    "                              lstm_hidden=lstm_hidden, filter_sizes=filter_sizes, kernel_size=kernels, \n",
    "                              kernel_initializer=kernel_weight, bias_initializer=bias, activation=cnn_activation, \n",
    "                              padding=cnn_padding)\n",
    "\n",
    "\n",
    "# Fit, train and evaluate model\n",
    "early_s_train = EarlyStopping(monitor=monitor, patience=patience, verbose=1)\n",
    "chkpt_train = ModelCheckpoint(filepath='./models/baseline_train_model.h5',\n",
    "                        monitor=monitor, save_best_only=save_best_only, verbose=1)\n",
    "\n",
    "\n",
    "baseline_train = baseline_train.fit(x=train_val_x, y=np.array(train_val_y), batch_size=batch_size, epochs=epochs, \n",
    "          validation_split=valid_split, shuffle=True, verbose=1, callbacks=[early_s_train, chkpt_train])"
   ]
  },
  {
   "cell_type": "markdown",
   "metadata": {
    "colab_type": "text",
    "id": "8VEgKGmB1lsr"
   },
   "source": [
    "#### Create, fit and train MGE model. Best trained model will be saved"
   ]
  },
  {
   "cell_type": "code",
   "execution_count": 10,
   "metadata": {
    "colab": {},
    "colab_type": "code",
    "id": "-fnbYgFO1lst",
    "outputId": "a198cdff-ed80-41f0-a514-c06521656f0b",
    "scrolled": true
   },
   "outputs": [
    {
     "name": "stdout",
     "output_type": "stream",
     "text": [
      "__________________________________________________________________________________________________\n",
      "Layer (type)                    Output Shape         Param #     Connected to                     \n",
      "==================================================================================================\n",
      "input_3 (InputLayer)            (None, 128)          0                                            \n",
      "__________________________________________________________________________________________________\n",
      "embedding_3 (Embedding)         (None, 128, 300)     31473000    input_3[0][0]                    \n",
      "__________________________________________________________________________________________________\n",
      "dropout_7 (Dropout)             (None, 128, 300)     0           embedding_3[0][0]                \n",
      "__________________________________________________________________________________________________\n",
      "conv1d_4 (Conv1D)               (None, 128, 64)      57664       dropout_7[0][0]                  \n",
      "__________________________________________________________________________________________________\n",
      "conv1d_5 (Conv1D)               (None, 128, 64)      96064       dropout_7[0][0]                  \n",
      "__________________________________________________________________________________________________\n",
      "conv1d_6 (Conv1D)               (None, 128, 64)      134464      dropout_7[0][0]                  \n",
      "__________________________________________________________________________________________________\n",
      "concatenate_2 (Concatenate)     (None, 128, 192)     0           conv1d_4[0][0]                   \n",
      "                                                                 conv1d_5[0][0]                   \n",
      "                                                                 conv1d_6[0][0]                   \n",
      "__________________________________________________________________________________________________\n",
      "dropout_8 (Dropout)             (None, 128, 192)     0           concatenate_2[0][0]              \n",
      "__________________________________________________________________________________________________\n",
      "reshape_2 (Reshape)             (None, 128, 192)     0           dropout_8[0][0]                  \n",
      "__________________________________________________________________________________________________\n",
      "dense_4 (Dense)                 (None, 128, 1024)    197632      reshape_2[0][0]                  \n",
      "__________________________________________________________________________________________________\n",
      "dropout_9 (Dropout)             (None, 128, 1024)    0           dense_4[0][0]                    \n",
      "__________________________________________________________________________________________________\n",
      "bidirectional_3 (Bidirectional) (None, 128, 2048)    16785408    dropout_9[0][0]                  \n",
      "__________________________________________________________________________________________________\n",
      "dropout_10 (Dropout)            (None, 128, 2048)    0           bidirectional_3[0][0]            \n",
      "__________________________________________________________________________________________________\n",
      "time_distributed_3 (TimeDistrib (None, 128, 7)       14343       dropout_10[0][0]                 \n",
      "==================================================================================================\n",
      "Total params: 48,758,575\n",
      "Trainable params: 17,285,575\n",
      "Non-trainable params: 31,473,000\n",
      "__________________________________________________________________________________________________\n",
      "Train on 159283 samples, validate on 68265 samples\n",
      "Epoch 1/30\n",
      "159283/159283 [==============================] - 1655s 10ms/step - loss: 0.0828 - acc: 0.9751 - val_loss: 0.0671 - val_acc: 0.9785\n",
      "\n",
      "Epoch 00001: val_loss improved from inf to 0.06705, saving model to ./models/mge_model.h5\n",
      "Epoch 2/30\n",
      "159283/159283 [==============================] - 1539s 10ms/step - loss: 0.0698 - acc: 0.9779 - val_loss: 0.0614 - val_acc: 0.9800\n",
      "\n",
      "Epoch 00002: val_loss improved from 0.06705 to 0.06144, saving model to ./models/mge_model.h5\n",
      "Epoch 3/30\n",
      "159283/159283 [==============================] - 1558s 10ms/step - loss: 0.0652 - acc: 0.9790 - val_loss: 0.0590 - val_acc: 0.9807\n",
      "\n",
      "Epoch 00003: val_loss improved from 0.06144 to 0.05904, saving model to ./models/mge_model.h5\n",
      "Epoch 4/30\n",
      "159283/159283 [==============================] - 1537s 10ms/step - loss: 0.0628 - acc: 0.9796 - val_loss: 0.0575 - val_acc: 0.9811\n",
      "\n",
      "Epoch 00004: val_loss improved from 0.05904 to 0.05748, saving model to ./models/mge_model.h5\n",
      "Epoch 5/30\n",
      "159283/159283 [==============================] - 1540s 10ms/step - loss: 0.0612 - acc: 0.9801 - val_loss: 0.0565 - val_acc: 0.9814\n",
      "\n",
      "Epoch 00005: val_loss improved from 0.05748 to 0.05653, saving model to ./models/mge_model.h5\n",
      "Epoch 6/30\n",
      "159283/159283 [==============================] - 1537s 10ms/step - loss: 0.0600 - acc: 0.9804 - val_loss: 0.0557 - val_acc: 0.9817\n",
      "\n",
      "Epoch 00006: val_loss improved from 0.05653 to 0.05569, saving model to ./models/mge_model.h5\n",
      "Epoch 7/30\n",
      "159283/159283 [==============================] - 1525s 10ms/step - loss: 0.0590 - acc: 0.9807 - val_loss: 0.0549 - val_acc: 0.9819\n",
      "\n",
      "Epoch 00007: val_loss improved from 0.05569 to 0.05491, saving model to ./models/mge_model.h5\n",
      "Epoch 8/30\n",
      "159283/159283 [==============================] - 1534s 10ms/step - loss: 0.0582 - acc: 0.9809 - val_loss: 0.0545 - val_acc: 0.9820\n",
      "\n",
      "Epoch 00008: val_loss improved from 0.05491 to 0.05453, saving model to ./models/mge_model.h5\n",
      "Epoch 9/30\n",
      "159283/159283 [==============================] - 1481s 9ms/step - loss: 0.0576 - acc: 0.9811 - val_loss: 0.0541 - val_acc: 0.9821\n",
      "\n",
      "Epoch 00009: val_loss improved from 0.05453 to 0.05414, saving model to ./models/mge_model.h5\n",
      "Epoch 10/30\n",
      "159283/159283 [==============================] - 1482s 9ms/step - loss: 0.0570 - acc: 0.9812 - val_loss: 0.0540 - val_acc: 0.9822\n",
      "\n",
      "Epoch 00010: val_loss improved from 0.05414 to 0.05399, saving model to ./models/mge_model.h5\n",
      "Epoch 11/30\n",
      "159283/159283 [==============================] - 1482s 9ms/step - loss: 0.0565 - acc: 0.9813 - val_loss: 0.0537 - val_acc: 0.9823\n",
      "\n",
      "Epoch 00011: val_loss improved from 0.05399 to 0.05373, saving model to ./models/mge_model.h5\n",
      "Epoch 12/30\n",
      "159283/159283 [==============================] - 1484s 9ms/step - loss: 0.0561 - acc: 0.9814 - val_loss: 0.0535 - val_acc: 0.9824\n",
      "\n",
      "Epoch 00012: val_loss improved from 0.05373 to 0.05346, saving model to ./models/mge_model.h5\n",
      "Epoch 13/30\n",
      "159283/159283 [==============================] - 1483s 9ms/step - loss: 0.0557 - acc: 0.9815 - val_loss: 0.0532 - val_acc: 0.9824\n",
      "\n",
      "Epoch 00013: val_loss improved from 0.05346 to 0.05317, saving model to ./models/mge_model.h5\n",
      "Epoch 14/30\n",
      "159283/159283 [==============================] - 1484s 9ms/step - loss: 0.0553 - acc: 0.9817 - val_loss: 0.0530 - val_acc: 0.9825\n",
      "\n",
      "Epoch 00014: val_loss improved from 0.05317 to 0.05297, saving model to ./models/mge_model.h5\n",
      "Epoch 15/30\n",
      "159283/159283 [==============================] - 1485s 9ms/step - loss: 0.0550 - acc: 0.9818 - val_loss: 0.0529 - val_acc: 0.9825\n",
      "\n",
      "Epoch 00015: val_loss improved from 0.05297 to 0.05285, saving model to ./models/mge_model.h5\n",
      "Epoch 16/30\n",
      "159283/159283 [==============================] - 1484s 9ms/step - loss: 0.0546 - acc: 0.9819 - val_loss: 0.0527 - val_acc: 0.9826\n",
      "\n",
      "Epoch 00016: val_loss improved from 0.05285 to 0.05274, saving model to ./models/mge_model.h5\n",
      "Epoch 17/30\n",
      "159283/159283 [==============================] - 1484s 9ms/step - loss: 0.0543 - acc: 0.9819 - val_loss: 0.0526 - val_acc: 0.9827\n",
      "\n",
      "Epoch 00017: val_loss improved from 0.05274 to 0.05262, saving model to ./models/mge_model.h5\n",
      "Epoch 18/30\n",
      "159283/159283 [==============================] - 1484s 9ms/step - loss: 0.0541 - acc: 0.9820 - val_loss: 0.0525 - val_acc: 0.9827\n",
      "\n",
      "Epoch 00018: val_loss improved from 0.05262 to 0.05247, saving model to ./models/mge_model.h5\n",
      "Epoch 19/30\n",
      "159283/159283 [==============================] - 1483s 9ms/step - loss: 0.0538 - acc: 0.9821 - val_loss: 0.0525 - val_acc: 0.9827\n",
      "\n",
      "Epoch 00019: val_loss did not improve from 0.05247\n",
      "Epoch 20/30\n",
      "159283/159283 [==============================] - 1481s 9ms/step - loss: 0.0535 - acc: 0.9822 - val_loss: 0.0524 - val_acc: 0.9827\n",
      "\n",
      "Epoch 00020: val_loss improved from 0.05247 to 0.05236, saving model to ./models/mge_model.h5\n"
     ]
    },
    {
     "name": "stdout",
     "output_type": "stream",
     "text": [
      "Epoch 21/30\n",
      "159283/159283 [==============================] - 1481s 9ms/step - loss: 0.0533 - acc: 0.9822 - val_loss: 0.0524 - val_acc: 0.9828\n",
      "\n",
      "Epoch 00021: val_loss did not improve from 0.05236\n",
      "Epoch 22/30\n",
      "159283/159283 [==============================] - 1481s 9ms/step - loss: 0.0531 - acc: 0.9823 - val_loss: 0.0521 - val_acc: 0.9828\n",
      "\n",
      "Epoch 00022: val_loss improved from 0.05236 to 0.05214, saving model to ./models/mge_model.h5\n",
      "Epoch 23/30\n",
      "159283/159283 [==============================] - 1481s 9ms/step - loss: 0.0529 - acc: 0.9823 - val_loss: 0.0522 - val_acc: 0.9828\n",
      "\n",
      "Epoch 00023: val_loss did not improve from 0.05214\n",
      "Epoch 24/30\n",
      "159283/159283 [==============================] - 1481s 9ms/step - loss: 0.0526 - acc: 0.9824 - val_loss: 0.0521 - val_acc: 0.9828\n",
      "\n",
      "Epoch 00024: val_loss improved from 0.05214 to 0.05208, saving model to ./models/mge_model.h5\n",
      "Epoch 25/30\n",
      "159283/159283 [==============================] - 1481s 9ms/step - loss: 0.0524 - acc: 0.9825 - val_loss: 0.0520 - val_acc: 0.9828\n",
      "\n",
      "Epoch 00025: val_loss improved from 0.05208 to 0.05205, saving model to ./models/mge_model.h5\n",
      "Epoch 26/30\n",
      "159283/159283 [==============================] - 1482s 9ms/step - loss: 0.0522 - acc: 0.9825 - val_loss: 0.0520 - val_acc: 0.9829\n",
      "\n",
      "Epoch 00026: val_loss improved from 0.05205 to 0.05201, saving model to ./models/mge_model.h5\n",
      "Epoch 27/30\n",
      "159283/159283 [==============================] - 1529s 10ms/step - loss: 0.0520 - acc: 0.9826 - val_loss: 0.0520 - val_acc: 0.9829\n",
      "\n",
      "Epoch 00027: val_loss improved from 0.05201 to 0.05200, saving model to ./models/mge_model.h5\n",
      "Epoch 28/30\n",
      "159283/159283 [==============================] - 1547s 10ms/step - loss: 0.0519 - acc: 0.9826 - val_loss: 0.0519 - val_acc: 0.9829\n",
      "\n",
      "Epoch 00028: val_loss improved from 0.05200 to 0.05194, saving model to ./models/mge_model.h5\n",
      "Epoch 29/30\n",
      "159283/159283 [==============================] - 1555s 10ms/step - loss: 0.0516 - acc: 0.9827 - val_loss: 0.0519 - val_acc: 0.9829\n",
      "\n",
      "Epoch 00029: val_loss improved from 0.05194 to 0.05192, saving model to ./models/mge_model.h5\n",
      "Epoch 30/30\n",
      "159283/159283 [==============================] - 1525s 10ms/step - loss: 0.0515 - acc: 0.9827 - val_loss: 0.0520 - val_acc: 0.9829\n",
      "\n",
      "Epoch 00030: val_loss did not improve from 0.05192\n",
      "Time taken: 45300.30695271492 seconds\n"
     ]
    }
   ],
   "source": [
    "mge = create_model(max_seq_len=max_seq_len, input_dim=unique_vocab, output_dim=embed_dim, embed_weights=embed_matrix, \n",
    "                seq_len=max_seq_len, trainable=trainable, drop_prob=drop_prob, lstm_hidden_2=lstm_hidden_2, \n",
    "                no_classes=mge_no_classes, model_type='mge', lstm_hidden=lstm_hidden, filter_sizes=filter_sizes, \n",
    "                kernel_size=kernels, kernel_initializer=kernel_weight, bias_initializer=bias, \n",
    "                activation=cnn_activation, padding=cnn_padding)\n",
    "mge.summary()\n",
    "plot_model(mge, to_file='mge_model.png', show_shapes=True)\n",
    "\n",
    "# Fit, train and evaluate model\n",
    "early_s, chkpt, tensor_b = set_callbacks(monitor, patience, 'mge', save_best_only, batch_size)\n",
    "\n",
    "start = time.time()\n",
    "mge = mge.fit(x=mge_train_val_x, y=np.array(mge_train_val_y), batch_size=batch_size, epochs=epochs, \n",
    "          validation_split=valid_split, shuffle=True, verbose=1, callbacks=[early_s, chkpt, tensor_b])\n",
    "print('Time taken: {} seconds'.format(time.time()-start))"
   ]
  },
  {
   "cell_type": "code",
   "execution_count": 8,
   "metadata": {
    "scrolled": true
   },
   "outputs": [
    {
     "name": "stdout",
     "output_type": "stream",
     "text": [
      "Train on 159283 samples, validate on 68265 samples\n",
      "Epoch 1/30\n",
      "159283/159283 [==============================] - 1576s 10ms/step - loss: 0.0708 - acc: 0.9776 - val_loss: 0.0573 - val_acc: 0.9810\n",
      "\n",
      "Epoch 00001: val_loss improved from inf to 0.05733, saving model to ./models/mge_train_model.h5\n",
      "Epoch 2/30\n",
      "159283/159283 [==============================] - 1538s 10ms/step - loss: 0.0556 - acc: 0.9814 - val_loss: 0.0518 - val_acc: 0.9826\n",
      "\n",
      "Epoch 00002: val_loss improved from 0.05733 to 0.05184, saving model to ./models/mge_train_model.h5\n",
      "Epoch 3/30\n",
      "159283/159283 [==============================] - 1539s 10ms/step - loss: 0.0514 - acc: 0.9827 - val_loss: 0.0502 - val_acc: 0.9832\n",
      "\n",
      "Epoch 00003: val_loss improved from 0.05184 to 0.05021, saving model to ./models/mge_train_model.h5\n",
      "Epoch 4/30\n",
      "159283/159283 [==============================] - 1538s 10ms/step - loss: 0.0489 - acc: 0.9834 - val_loss: 0.0489 - val_acc: 0.9835\n",
      "\n",
      "Epoch 00004: val_loss improved from 0.05021 to 0.04889, saving model to ./models/mge_train_model.h5\n",
      "Epoch 5/30\n",
      "159283/159283 [==============================] - 1537s 10ms/step - loss: 0.0470 - acc: 0.9840 - val_loss: 0.0486 - val_acc: 0.9836\n",
      "\n",
      "Epoch 00005: val_loss improved from 0.04889 to 0.04864, saving model to ./models/mge_train_model.h5\n",
      "Epoch 6/30\n",
      "159283/159283 [==============================] - 1536s 10ms/step - loss: 0.0456 - acc: 0.9845 - val_loss: 0.0486 - val_acc: 0.9837\n",
      "\n",
      "Epoch 00006: val_loss did not improve from 0.04864\n",
      "Epoch 7/30\n",
      "159283/159283 [==============================] - 1536s 10ms/step - loss: 0.0443 - acc: 0.9848 - val_loss: 0.0483 - val_acc: 0.9837\n",
      "\n",
      "Epoch 00007: val_loss improved from 0.04864 to 0.04826, saving model to ./models/mge_train_model.h5\n",
      "Epoch 8/30\n",
      "159283/159283 [==============================] - 1536s 10ms/step - loss: 0.0433 - acc: 0.9851 - val_loss: 0.0483 - val_acc: 0.9839\n",
      "\n",
      "Epoch 00008: val_loss improved from 0.04826 to 0.04825, saving model to ./models/mge_train_model.h5\n",
      "Epoch 9/30\n",
      "159283/159283 [==============================] - 1535s 10ms/step - loss: 0.0425 - acc: 0.9854 - val_loss: 0.0484 - val_acc: 0.9839\n",
      "\n",
      "Epoch 00009: val_loss did not improve from 0.04825\n",
      "Epoch 10/30\n",
      "159283/159283 [==============================] - 1534s 10ms/step - loss: 0.0418 - acc: 0.9856 - val_loss: 0.0486 - val_acc: 0.9838\n",
      "\n",
      "Epoch 00010: val_loss did not improve from 0.04825\n",
      "Epoch 00010: early stopping\n"
     ]
    }
   ],
   "source": [
    "mge_train = create_model(max_seq_len=max_seq_len, input_dim=unique_vocab, output_dim=embed_dim, \n",
    "                              embed_weights=embed_matrix, seq_len=max_seq_len, trainable=True, drop_prob=drop_prob, \n",
    "                              lstm_hidden_2=lstm_hidden_2, no_classes=no_classes, model_type='mge', \n",
    "                              lstm_hidden=lstm_hidden, filter_sizes=filter_sizes, kernel_size=kernels, \n",
    "                              kernel_initializer=kernel_weight, bias_initializer=bias, activation=cnn_activation, \n",
    "                              padding=cnn_padding)\n",
    "\n",
    "\n",
    "# Fit, train and evaluate model\n",
    "early_s_train = EarlyStopping(monitor=monitor, patience=patience, verbose=1)\n",
    "chkpt_train = ModelCheckpoint(filepath='./models/mge_train_model.h5',\n",
    "                        monitor=monitor, save_best_only=save_best_only, verbose=1)\n",
    "\n",
    "\n",
    "mge_train = mge_train.fit(x=mge_train_val_x, y=np.array(mge_train_val_y), batch_size=batch_size, epochs=epochs, \n",
    "          validation_split=valid_split, shuffle=True, verbose=1, callbacks=[early_s_train, chkpt_train])"
   ]
  },
  {
   "cell_type": "code",
   "execution_count": 12,
   "metadata": {
    "scrolled": true
   },
   "outputs": [
    {
     "name": "stdout",
     "output_type": "stream",
     "text": [
      "Train on 159283 samples, validate on 68265 samples\n",
      "Epoch 1/30\n",
      "159283/159283 [==============================] - 1168s 7ms/step - loss: 0.0851 - acc: 0.9747 - val_loss: 0.0665 - val_acc: 0.9786\n",
      "\n",
      "Epoch 00001: val_loss improved from inf to 0.06652, saving model to ./models/mge_baseline_model.h5\n",
      "Epoch 2/30\n",
      "159283/159283 [==============================] - 1157s 7ms/step - loss: 0.0665 - acc: 0.9786 - val_loss: 0.0603 - val_acc: 0.9803\n",
      "\n",
      "Epoch 00002: val_loss improved from 0.06652 to 0.06035, saving model to ./models/mge_baseline_model.h5\n",
      "Epoch 3/30\n",
      "159283/159283 [==============================] - 1151s 7ms/step - loss: 0.0612 - acc: 0.9800 - val_loss: 0.0574 - val_acc: 0.9811\n",
      "\n",
      "Epoch 00003: val_loss improved from 0.06035 to 0.05741, saving model to ./models/mge_baseline_model.h5\n",
      "Epoch 4/30\n",
      "159283/159283 [==============================] - 1154s 7ms/step - loss: 0.0577 - acc: 0.9809 - val_loss: 0.0555 - val_acc: 0.9817\n",
      "\n",
      "Epoch 00004: val_loss improved from 0.05741 to 0.05547, saving model to ./models/mge_baseline_model.h5\n",
      "Epoch 5/30\n",
      "159283/159283 [==============================] - 1128s 7ms/step - loss: 0.0547 - acc: 0.9818 - val_loss: 0.0546 - val_acc: 0.9820\n",
      "\n",
      "Epoch 00005: val_loss improved from 0.05547 to 0.05458, saving model to ./models/mge_baseline_model.h5\n",
      "Epoch 6/30\n",
      "159283/159283 [==============================] - 1131s 7ms/step - loss: 0.0520 - acc: 0.9825 - val_loss: 0.0544 - val_acc: 0.9821\n",
      "\n",
      "Epoch 00006: val_loss improved from 0.05458 to 0.05444, saving model to ./models/mge_baseline_model.h5\n",
      "Epoch 7/30\n",
      "159283/159283 [==============================] - 1121s 7ms/step - loss: 0.0494 - acc: 0.9832 - val_loss: 0.0542 - val_acc: 0.9823\n",
      "\n",
      "Epoch 00007: val_loss improved from 0.05444 to 0.05416, saving model to ./models/mge_baseline_model.h5\n",
      "Epoch 8/30\n",
      "159283/159283 [==============================] - 1161s 7ms/step - loss: 0.0471 - acc: 0.9839 - val_loss: 0.0547 - val_acc: 0.9822\n",
      "\n",
      "Epoch 00008: val_loss did not improve from 0.05416\n",
      "Epoch 9/30\n",
      "159283/159283 [==============================] - 1164s 7ms/step - loss: 0.0450 - acc: 0.9845 - val_loss: 0.0552 - val_acc: 0.9821\n",
      "\n",
      "Epoch 00009: val_loss did not improve from 0.05416\n",
      "Epoch 00009: early stopping\n"
     ]
    }
   ],
   "source": [
    "mge_baseline = create_model(max_seq_len=max_seq_len, input_dim=unique_vocab, output_dim=embed_dim,\n",
    "                embed_weights=embed_matrix, seq_len=max_seq_len, trainable=trainable, drop_prob=drop_prob, \n",
    "                lstm_hidden_2=lstm_hidden_2, no_classes=no_classes, model_type='baseline')\n",
    "\n",
    "# Fit, train and evaluate model\n",
    "early_s_train = EarlyStopping(monitor=monitor, patience=patience, verbose=1)\n",
    "chkpt_train = ModelCheckpoint(filepath='./models/mge_baseline_model.h5',\n",
    "                        monitor=monitor, save_best_only=save_best_only, verbose=1)\n",
    "\n",
    "\n",
    "mge_baseline = mge_baseline.fit(x=mge_train_val_x, y=np.array(mge_train_val_y), batch_size=batch_size, epochs=epochs, \n",
    "          validation_split=valid_split, shuffle=True, verbose=1, callbacks=[early_s_train, chkpt_train])"
   ]
  },
  {
   "cell_type": "code",
   "execution_count": 14,
   "metadata": {
    "scrolled": true
   },
   "outputs": [
    {
     "name": "stdout",
     "output_type": "stream",
     "text": [
      "Train on 159283 samples, validate on 68265 samples\n",
      "Epoch 1/30\n",
      "159283/159283 [==============================] - 1289s 8ms/step - loss: 0.0709 - acc: 0.9778 - val_loss: 0.0552 - val_acc: 0.9816\n",
      "\n",
      "Epoch 00001: val_loss improved from inf to 0.05519, saving model to ./models/mge_baseline_train_model.h5\n",
      "Epoch 2/30\n",
      "159283/159283 [==============================] - 1270s 8ms/step - loss: 0.0534 - acc: 0.9820 - val_loss: 0.0513 - val_acc: 0.9828\n",
      "\n",
      "Epoch 00002: val_loss improved from 0.05519 to 0.05134, saving model to ./models/mge_baseline_train_model.h5\n",
      "Epoch 3/30\n",
      "159283/159283 [==============================] - 1245s 8ms/step - loss: 0.0483 - acc: 0.9836 - val_loss: 0.0496 - val_acc: 0.9834\n",
      "\n",
      "Epoch 00003: val_loss improved from 0.05134 to 0.04960, saving model to ./models/mge_baseline_train_model.h5\n",
      "Epoch 4/30\n",
      "159283/159283 [==============================] - 1228s 8ms/step - loss: 0.0443 - acc: 0.9848 - val_loss: 0.0494 - val_acc: 0.9835\n",
      "\n",
      "Epoch 00004: val_loss improved from 0.04960 to 0.04944, saving model to ./models/mge_baseline_train_model.h5\n",
      "Epoch 5/30\n",
      "159283/159283 [==============================] - 1227s 8ms/step - loss: 0.0406 - acc: 0.9859 - val_loss: 0.0497 - val_acc: 0.9836\n",
      "\n",
      "Epoch 00005: val_loss did not improve from 0.04944\n",
      "Epoch 6/30\n",
      "159283/159283 [==============================] - 1246s 8ms/step - loss: 0.0372 - acc: 0.9870 - val_loss: 0.0510 - val_acc: 0.9835\n",
      "\n",
      "Epoch 00006: val_loss did not improve from 0.04944\n",
      "Epoch 00006: early stopping\n"
     ]
    }
   ],
   "source": [
    "mge_baseline_train = create_model(max_seq_len=max_seq_len, input_dim=unique_vocab, output_dim=embed_dim,\n",
    "                embed_weights=embed_matrix, seq_len=max_seq_len, trainable=True, drop_prob=drop_prob, \n",
    "                lstm_hidden_2=lstm_hidden_2, no_classes=no_classes, model_type='baseline')\n",
    "\n",
    "# Fit, train and evaluate model\n",
    "early_s_train = EarlyStopping(monitor=monitor, patience=patience, verbose=1)\n",
    "chkpt_train = ModelCheckpoint(filepath='./models/mge_baseline_train_model.h5',\n",
    "                        monitor=monitor, save_best_only=save_best_only, verbose=1)\n",
    "\n",
    "mge_baseline_train = mge_baseline_train.fit(x=mge_train_val_x, y=np.array(mge_train_val_y), batch_size=batch_size, \n",
    "                                            epochs=epochs, validation_split=valid_split, shuffle=True, verbose=1, \n",
    "                                            callbacks=[early_s_train, chkpt_train])"
   ]
  },
  {
   "cell_type": "markdown",
   "metadata": {
    "colab_type": "text",
    "id": "-e0Y8sVi1ltE"
   },
   "source": [
    "#### <a name='results'> Results </a>\n",
    "Barring the Pad and NA classes which are not our targets, the below can be observed from the Classifcation Report and Confusion Matrix:\n",
    "\n",
    "* Hybrid model performs decently on predicting Commas, Periods and Question Marks achieving 64%, 89% and, 68% F1-Score respectively\n",
    "* Predictions for Exclaimation Marks and Ellipsis performed the worst at 7% and 10% F1-Score respectively\n",
    "* The difference in performance could possibly be due to class imbalances resulting in the model \"viewing\" insufficient examples to make more accurate predictions \n",
    "\n",
    "##### [Ted Talks Hybrid vs Ted Talks Baseline](#ted)\n",
    "After training both models using the Ted Talks dataset, we can observe that the Hybrid outperforms the baseline BiLSTM, achieveing higher F1-scores on all classes.\n",
    "\n",
    "##### [MGE Hybrid vs MGE Baseline](#mge)\n",
    "Training both models using the MGE dataset, a similiar result as the above was observed with the Hybird model outperforming the baseline across all classes on F1-scores with exception to the Exclaim class by about 2% (19% vs 22%).  \n",
    "\n",
    "This could be attributed to the nature of the dataset, providing more information to better identify/predict the class.\n",
    "\n",
    "For both the Ted Talks and MGE datasets, the Hybrid model seems to outperform the others.\n",
    "\n",
    "##### [Ted Talks Hybrid vs Ted Talks Hybrid Trainable](#ted_train)\n",
    "After finding the best models, a second set of training was ran using them with the embedding layer weights set to trainable.  \n",
    "This is to determine if there would be any impacts to the perfomance.  \n",
    "\n",
    "For the Ted Talks dataset, disabling the trainable weights provided better results in terms of F1-scores.  \n",
    "\n",
    "##### [MGE Hybrid vs MGE Hybrid Trainable](#mge_train) \n",
    "An interesting note is that setting the weights to trainable results in the model overfitting to the training data however when tested using the test data, the model performs better in terms of F1-scores.  \n",
    "Which is in contrast to the Ted Talks model.  \n",
    "\n",
    "This could possibly be due to the MGE dataset having much more data, resulting in better predictions.\n",
    "\n",
    "##### Parameters tuning and explorations\n",
    "Mutiple model parameters combinations have been attempted to check on their performance. Their results can be viewed [here](https://docs.google.com/spreadsheets/d/1FguxMPOCumn6J5Zgo7-S6yhNAFMkLuPKATyPfGzwkq8/edit#gid=301828972)\n",
    "\n",
    "The following model configurations have also been attempted:\n",
    "* Increasing the amount of CNN layers to 4:  \n",
    "No substantial model performance improvements were observed  \n",
    "\n",
    "* L2 regularization at 0.01  \n",
    "Regularization did not seem to have affected performance\n",
    "\n",
    "* Concatenating the outputs of the CNN layers:  \n",
    "Model performance was observed to have improved, in comparison to passing the data through CNN layers sequentially  "
   ]
  },
  {
   "cell_type": "markdown",
   "metadata": {
    "colab_type": "text",
    "id": "ch5uEkJ51ls-"
   },
   "source": [
    "#### Delete sub-optimal models"
   ]
  },
  {
   "cell_type": "code",
   "execution_count": 14,
   "metadata": {
    "colab": {},
    "colab_type": "code",
    "id": "cgFtyxTK1ls-"
   },
   "outputs": [],
   "source": [
    "del hybrid, baseline, mge"
   ]
  },
  {
   "cell_type": "markdown",
   "metadata": {
    "colab_type": "text",
    "id": "-KVIrxV51ltB"
   },
   "source": [
    "#### Load best trained modeles"
   ]
  },
  {
   "cell_type": "code",
   "execution_count": 7,
   "metadata": {
    "colab": {},
    "colab_type": "code",
    "id": "gUp9-uSX1ltB",
    "outputId": "ace8035d-cda0-4941-a11a-270f683242e1"
   },
   "outputs": [
    {
     "name": "stdout",
     "output_type": "stream",
     "text": [
      "All models loaded\n"
     ]
    }
   ],
   "source": [
    "# Load best results for each model\n",
    "hybrid = load_model('./models/'+dataset_name+'_model.h5')\n",
    "hybrid_train = load_model('./models/ted_data_train_model.h5')\n",
    "baseline = load_model('./models/baseline_model.h5')\n",
    "baseline_train = load_model('./models/baseline_train_model.h5')\n",
    "\n",
    "mge = load_model('./models/mge_model.h5')\n",
    "mge_train = load_model('./models/mge_train_model.h5')\n",
    "mge_baseline = load_model('./models/mge_baseline_model.h5')\n",
    "mge_baseline_train = load_model('./models/mge_baseline_train_model.h5')\n",
    "print('All models loaded')"
   ]
  },
  {
   "cell_type": "markdown",
   "metadata": {
    "colab_type": "text",
    "id": "WUyIyFlE1ltF"
   },
   "source": [
    "#### Run test data through trained models"
   ]
  },
  {
   "cell_type": "code",
   "execution_count": 8,
   "metadata": {},
   "outputs": [],
   "source": [
    "hybrid_cm, hybrid_cr_d = get_results(model=hybrid, test_x=test_x, test_x=test_y)\n",
    "hybrid_train_cm, hybrid_train_cr_d = get_results(model=hybrid_train, test_x=test_x, test_y=test_y)\n",
    "baseline_cm, baseline_cr_d = get_results(model=baseline, test_x=test_x, test_y=test_y)\n",
    "baseline_train_cm, baseline_train_cr_d = get_results(model=baseline_train, test_x=test_x, test_y=test_y)\n",
    "\n",
    "mge_cm, mge_cr_d = get_results(model=mge, test_x=mge_test_x, test_y=mge_test_y)\n",
    "mge_train_cm, mge_train_cr_d = get_results(model=mge_train, test_x=mge_test_x, test_y=mge_test_y)\n",
    "mge_baseline_cm, mge_baseline_cr_d = get_results(model=mge_baseline, test_x=mge_test_x, test_y=mge_test_y)\n",
    "mge_baseline_train_cm, mge_baseline_train_cr_d = get_results(model=mge_baseline_train, test_x=mge_test_x, test_y=mge_test_y)"
   ]
  },
  {
   "cell_type": "markdown",
   "metadata": {},
   "source": [
    "##### <a name='ted'> Ted Talks dataset Classification Reports and Confusion Matrices </a>"
   ]
  },
  {
   "cell_type": "code",
   "execution_count": 9,
   "metadata": {
    "scrolled": false
   },
   "outputs": [
    {
     "name": "stdout",
     "output_type": "stream",
     "text": [
      "****Ted Talks Hybrid vs Baseline****\n",
      "              precision  recall  f1-score  support\n",
      "Pad                1.00    1.00      1.00  4931231\n",
      "NA                 0.97    0.98      0.97  1014905\n",
      "Comma              0.68    0.59      0.64    76089\n",
      "Period             0.91    0.86      0.89    64139\n",
      "Question           0.70    0.65      0.68     5522\n",
      "Exclaim            0.24    0.04      0.07      566\n",
      "Ellipsis           0.61    0.05      0.10      476\n",
      "micro avg          0.99    0.99      0.99  6092928\n",
      "macro avg          0.73    0.60      0.62  6092928\n",
      "weighted avg       0.99    0.99      0.99  6092928\n",
      "\n",
      "\n",
      "              precision  recall  f1-score  support\n",
      "Pad                1.00    1.00      1.00  4931231\n",
      "NA                 0.97    0.98      0.97  1014905\n",
      "Comma              0.63    0.59      0.61    76089\n",
      "Period             0.91    0.85      0.88    64139\n",
      "Question           0.65    0.57      0.61     5522\n",
      "Exclaim            0.27    0.03      0.05      566\n",
      "Ellipsis           0.80    0.03      0.05      476\n",
      "micro avg          0.99    0.99      0.99  6092928\n",
      "macro avg          0.75    0.58      0.60  6092928\n",
      "weighted avg       0.99    0.99      0.99  6092928\n"
     ]
    }
   ],
   "source": [
    "hybrid_df = get_df(hybrid_cr_d, 'hybrid')\n",
    "baseline_df = get_df(baseline_cr_d, 'baseline')\n",
    "print('****Ted Talks Hybrid vs Ted Talks Hybrid_trainable****')\n",
    "print(hybrid_df)\n",
    "print('\\n')\n",
    "print(baseline_df)"
   ]
  },
  {
   "cell_type": "code",
   "execution_count": 23,
   "metadata": {},
   "outputs": [
    {
     "name": "stdout",
     "output_type": "stream",
     "text": [
      "****Normalized confusion matrix:****\n"
     ]
    },
    {
     "data": {
      "image/png": "[encoded data removed]",
      "text/plain": [
       "<Figure size 432x288 with 2 Axes>"
      ]
     },
     "metadata": {
      "needs_background": "light"
     },
     "output_type": "display_data"
    }
   ],
   "source": [
    "plot_confusion_matrix(hybrid_cm, 'Ted_Talks_hybrid', normalize=True)"
   ]
  },
  {
   "cell_type": "code",
   "execution_count": 24,
   "metadata": {
    "scrolled": false
   },
   "outputs": [
    {
     "name": "stdout",
     "output_type": "stream",
     "text": [
      "****Normalized confusion matrix:****\n"
     ]
    },
    {
     "data": {
      "image/png": "[encoded data removed]",
      "text/plain": [
       "<Figure size 432x288 with 2 Axes>"
      ]
     },
     "metadata": {
      "needs_background": "light"
     },
     "output_type": "display_data"
    }
   ],
   "source": [
    "plot_confusion_matrix(baseline_cm, 'Ted_Talks_baseline', normalize=True)"
   ]
  },
  {
   "cell_type": "code",
   "execution_count": 11,
   "metadata": {
    "colab": {},
    "colab_type": "code",
    "id": "qMmjak9g1lsz",
    "outputId": "fc0f8f0a-fa65-4a4b-b66c-76284ea29986"
   },
   "outputs": [
    {
     "data": {
      "image/png": "[encoded data removed]",
      "text/plain": [
       "<Figure size 432x288 with 1 Axes>"
      ]
     },
     "metadata": {
      "needs_background": "light"
     },
     "output_type": "display_data"
    }
   ],
   "source": [
    "plot_train_hist(hybrid)"
   ]
  },
  {
   "cell_type": "code",
   "execution_count": 12,
   "metadata": {
    "colab": {},
    "colab_type": "code",
    "id": "7xl8d7Bv1ls4",
    "outputId": "ca7d2530-2f3c-4485-9d72-e256baea3a12"
   },
   "outputs": [
    {
     "data": {
      "image/png": "[encoded data removed]",
      "text/plain": [
       "<Figure size 432x288 with 1 Axes>"
      ]
     },
     "metadata": {
      "needs_background": "light"
     },
     "output_type": "display_data"
    }
   ],
   "source": [
    "plot_train_hist(baseline)"
   ]
  },
  {
   "cell_type": "markdown",
   "metadata": {},
   "source": [
    "[Return to results](#results)"
   ]
  },
  {
   "cell_type": "markdown",
   "metadata": {},
   "source": [
    "##### <a name='mge'> MGE dataset Classification Reports and Confusion Matrices </a>"
   ]
  },
  {
   "cell_type": "code",
   "execution_count": 17,
   "metadata": {},
   "outputs": [
    {
     "name": "stdout",
     "output_type": "stream",
     "text": [
      "****MGE Hybrid vs Baseline****\n",
      "              precision  recall  f1-score  support\n",
      "Pad                1.00    1.00      1.00  5982527\n",
      "NA                 0.95    0.98      0.96  1075676\n",
      "Period             0.64    0.72      0.68   108335\n",
      "Comma              0.61    0.37      0.46    73320\n",
      "Question           0.75    0.64      0.69    21937\n",
      "Exclaim            0.45    0.12      0.19    13824\n",
      "Ellipsis           0.46    0.08      0.14     6045\n",
      "micro avg          0.98    0.98      0.98  7281664\n",
      "macro avg          0.69    0.56      0.59  7281664\n",
      "weighted avg       0.98    0.98      0.98  7281664\n",
      "\n",
      "\n",
      "              precision  recall  f1-score  support\n",
      "Pad                1.00    1.00      1.00  5982527\n",
      "NA                 0.95    0.98      0.96  1075676\n",
      "Period             0.65    0.68      0.66   108335\n",
      "Comma              0.56    0.39      0.46    73320\n",
      "Question           0.72    0.61      0.66    21937\n",
      "Exclaim            0.44    0.15      0.22    13824\n",
      "Ellipsis           0.45    0.06      0.10     6045\n",
      "micro avg          0.98    0.98      0.98  7281664\n",
      "macro avg          0.68    0.55      0.58  7281664\n",
      "weighted avg       0.98    0.98      0.98  7281664\n"
     ]
    }
   ],
   "source": [
    "mge_df = get_df(mge_cr_d, 'mge')\n",
    "mge_baseline_df = get_df(mge_baseline_cr_d, 'mge')\n",
    "print('****MGE Hybrid vs Baseline****')\n",
    "print(mge_df)\n",
    "print('\\n')\n",
    "print(mge_baseline_df)"
   ]
  },
  {
   "cell_type": "code",
   "execution_count": 25,
   "metadata": {
    "scrolled": true
   },
   "outputs": [
    {
     "name": "stdout",
     "output_type": "stream",
     "text": [
      "****Normalized confusion matrix:****\n"
     ]
    },
    {
     "data": {
      "image/png": "[encoded data removed]",
      "text/plain": [
       "<Figure size 432x288 with 2 Axes>"
      ]
     },
     "metadata": {
      "needs_background": "light"
     },
     "output_type": "display_data"
    }
   ],
   "source": [
    "plot_confusion_matrix(mge_cm, 'MGE_hybrid', normalize=True)"
   ]
  },
  {
   "cell_type": "code",
   "execution_count": 26,
   "metadata": {},
   "outputs": [
    {
     "name": "stdout",
     "output_type": "stream",
     "text": [
      "****Normalized confusion matrix:****\n"
     ]
    },
    {
     "data": {
      "image/png": "[encoded data removed]",
      "text/plain": [
       "<Figure size 432x288 with 2 Axes>"
      ]
     },
     "metadata": {
      "needs_background": "light"
     },
     "output_type": "display_data"
    }
   ],
   "source": [
    "plot_confusion_matrix(mge_baseline_cm, 'MGE_baseline', normalize=True)"
   ]
  },
  {
   "cell_type": "code",
   "execution_count": 13,
   "metadata": {
    "colab": {},
    "colab_type": "code",
    "id": "GYfq_5P-1ls7",
    "outputId": "1fae63cc-6cb7-4516-f555-870fdcbc74ec"
   },
   "outputs": [
    {
     "data": {
      "image/png": "[encoded data removed]",
      "text/plain": [
       "<Figure size 432x288 with 1 Axes>"
      ]
     },
     "metadata": {
      "needs_background": "light"
     },
     "output_type": "display_data"
    }
   ],
   "source": [
    "plot_train_hist(mge)"
   ]
  },
  {
   "cell_type": "code",
   "execution_count": 15,
   "metadata": {},
   "outputs": [
    {
     "data": {
      "image/png": "[encoded data removed]",
      "text/plain": [
       "<Figure size 432x288 with 1 Axes>"
      ]
     },
     "metadata": {
      "needs_background": "light"
     },
     "output_type": "display_data"
    }
   ],
   "source": [
    "plot_train_hist(mge_baseline)"
   ]
  },
  {
   "cell_type": "markdown",
   "metadata": {},
   "source": [
    "[Return to results](#results)"
   ]
  },
  {
   "cell_type": "markdown",
   "metadata": {},
   "source": [
    "##### <a name='ted_train'> Ted Talks dataset Hybrid vs Hybrid_trainable Classification Reports and Confusion Matrices </a>"
   ]
  },
  {
   "cell_type": "code",
   "execution_count": 36,
   "metadata": {
    "scrolled": false
   },
   "outputs": [
    {
     "name": "stdout",
     "output_type": "stream",
     "text": [
      "****Ted Talks Hybrid vs Ted Talks Hybrid Trainable****\n",
      "              precision  recall  f1-score  support\n",
      "Pad                1.00    1.00      1.00  4931231\n",
      "NA                 0.97    0.98      0.97  1014905\n",
      "Comma              0.68    0.59      0.64    76089\n",
      "Period             0.91    0.86      0.89    64139\n",
      "Question           0.70    0.65      0.68     5522\n",
      "Exclaim            0.24    0.04      0.07      566\n",
      "Ellipsis           0.61    0.05      0.10      476\n",
      "micro avg          0.99    0.99      0.99  6092928\n",
      "macro avg          0.73    0.60      0.62  6092928\n",
      "weighted avg       0.99    0.99      0.99  6092928\n",
      "\n",
      "\n",
      "              precision  recall  f1-score  support\n",
      "Pad                1.00    1.00      1.00  4931231\n",
      "NA                 0.97    0.97      0.97  1014905\n",
      "Comma              0.64    0.62      0.63    76089\n",
      "Period             0.90    0.87      0.88    64139\n",
      "Question           0.66    0.62      0.64     5522\n",
      "Exclaim            0.12    0.08      0.09      566\n",
      "Ellipsis           0.91    0.04      0.08      476\n",
      "micro avg          0.99    0.99      0.99  6092928\n",
      "macro avg          0.74    0.60      0.61  6092928\n",
      "weighted avg       0.99    0.99      0.99  6092928\n"
     ]
    }
   ],
   "source": [
    "hybrid_df = get_df(hybrid_cr_d, 'hybrid')\n",
    "hybrid_train_df = get_df(hybrid_train_cr_d, 'hybrid')\n",
    "print('****Ted Talks Hybrid vs Ted Talks Hybrid Trainable****')\n",
    "print(hybrid_df)\n",
    "print('\\n')\n",
    "print(hybrid_train_df)"
   ]
  },
  {
   "cell_type": "code",
   "execution_count": 37,
   "metadata": {},
   "outputs": [
    {
     "name": "stdout",
     "output_type": "stream",
     "text": [
      "****Normalized confusion matrix:****\n"
     ]
    },
    {
     "data": {
      "image/png": "[encoded data removed]",
      "text/plain": [
       "<Figure size 432x288 with 2 Axes>"
      ]
     },
     "metadata": {
      "needs_background": "light"
     },
     "output_type": "display_data"
    }
   ],
   "source": [
    "plot_confusion_matrix(hybrid_cm, 'Ted Talks Hybrid', normalize=True)"
   ]
  },
  {
   "cell_type": "code",
   "execution_count": 38,
   "metadata": {},
   "outputs": [
    {
     "name": "stdout",
     "output_type": "stream",
     "text": [
      "****Normalized confusion matrix:****\n"
     ]
    },
    {
     "data": {
      "image/png": "[encoded data removed]",
      "text/plain": [
       "<Figure size 432x288 with 2 Axes>"
      ]
     },
     "metadata": {
      "needs_background": "light"
     },
     "output_type": "display_data"
    }
   ],
   "source": [
    "plot_confusion_matrix(hybrid_train_cm, 'Ted Talks Hybrid Trainable', normalize=True)"
   ]
  },
  {
   "cell_type": "code",
   "execution_count": 11,
   "metadata": {
    "colab": {},
    "colab_type": "code",
    "id": "qMmjak9g1lsz",
    "outputId": "fc0f8f0a-fa65-4a4b-b66c-76284ea29986"
   },
   "outputs": [
    {
     "data": {
      "image/png": "[encoded data removed]",
      "text/plain": [
       "<Figure size 432x288 with 1 Axes>"
      ]
     },
     "metadata": {
      "needs_background": "light"
     },
     "output_type": "display_data"
    }
   ],
   "source": [
    "plot_train_hist(hybrid)"
   ]
  },
  {
   "cell_type": "code",
   "execution_count": 9,
   "metadata": {},
   "outputs": [
    {
     "data": {
      "image/png": "[encoded data removed]",
      "text/plain": [
       "<Figure size 432x288 with 1 Axes>"
      ]
     },
     "metadata": {
      "needs_background": "light"
     },
     "output_type": "display_data"
    }
   ],
   "source": [
    "plot_train_hist(hybrid_train)"
   ]
  },
  {
   "cell_type": "markdown",
   "metadata": {},
   "source": [
    "[Return to results](#results)"
   ]
  },
  {
   "cell_type": "markdown",
   "metadata": {},
   "source": [
    "##### <a name='mge_train'> MGE dataset Hybrid vs Hybrid_trainable Classification Reports and Confusion Matrices </a>"
   ]
  },
  {
   "cell_type": "code",
   "execution_count": 39,
   "metadata": {},
   "outputs": [
    {
     "name": "stdout",
     "output_type": "stream",
     "text": [
      "****MGE Hybrid vs MGE Hybrid Trainable****\n",
      "              precision  recall  f1-score  support\n",
      "Pad                1.00    1.00      1.00  5982527\n",
      "NA                 0.95    0.98      0.96  1075676\n",
      "Period             0.64    0.72      0.68   108335\n",
      "Comma              0.61    0.37      0.46    73320\n",
      "Question           0.75    0.64      0.69    21937\n",
      "Exclaim            0.45    0.12      0.19    13824\n",
      "Ellipsis           0.46    0.08      0.14     6045\n",
      "micro avg          0.98    0.98      0.98  7281664\n",
      "macro avg          0.69    0.56      0.59  7281664\n",
      "weighted avg       0.98    0.98      0.98  7281664\n",
      "\n",
      "\n",
      "              precision  recall  f1-score  support\n",
      "Pad                1.00    1.00      1.00  5982527\n",
      "NA                 0.96    0.98      0.97  1075676\n",
      "Period             0.67    0.74      0.70   108335\n",
      "Comma              0.57    0.47      0.51    73320\n",
      "Question           0.75    0.66      0.70    21937\n",
      "Exclaim            0.48    0.15      0.23    13824\n",
      "Ellipsis           0.47    0.08      0.14     6045\n",
      "micro avg          0.98    0.98      0.98  7281664\n",
      "macro avg          0.70    0.58      0.61  7281664\n",
      "weighted avg       0.98    0.98      0.98  7281664\n"
     ]
    }
   ],
   "source": [
    "mge_df = get_df(class_rept_dict=mge_cr_d, dataset_type='mge') \n",
    "mge_train_df = get_df(class_rept_dict=mge_train_cr_d, dataset_type='mge')\n",
    "print('****MGE Hybrid vs MGE Hybrid Trainable****')\n",
    "print(mge_df)\n",
    "print('\\n')\n",
    "print(mge_train_df)"
   ]
  },
  {
   "cell_type": "code",
   "execution_count": 40,
   "metadata": {},
   "outputs": [
    {
     "name": "stdout",
     "output_type": "stream",
     "text": [
      "****Normalized confusion matrix:****\n"
     ]
    },
    {
     "data": {
      "image/png": "[encoded data removed]",
      "text/plain": [
       "<Figure size 432x288 with 2 Axes>"
      ]
     },
     "metadata": {
      "needs_background": "light"
     },
     "output_type": "display_data"
    }
   ],
   "source": [
    "plot_confusion_matrix(mge_cm, 'MGE Hybrid', normalize=True)"
   ]
  },
  {
   "cell_type": "code",
   "execution_count": 41,
   "metadata": {},
   "outputs": [
    {
     "name": "stdout",
     "output_type": "stream",
     "text": [
      "****Normalized confusion matrix:****\n"
     ]
    },
    {
     "data": {
      "image/png": "[encoded data removed]",
      "text/plain": [
       "<Figure size 432x288 with 2 Axes>"
      ]
     },
     "metadata": {
      "needs_background": "light"
     },
     "output_type": "display_data"
    }
   ],
   "source": [
    "plot_confusion_matrix(mge_train_cm, 'MGE Hybrid Trainable', normalize=True)"
   ]
  },
  {
   "cell_type": "code",
   "execution_count": 13,
   "metadata": {
    "colab": {},
    "colab_type": "code",
    "id": "GYfq_5P-1ls7",
    "outputId": "1fae63cc-6cb7-4516-f555-870fdcbc74ec"
   },
   "outputs": [
    {
     "data": {
      "image/png": "[encoded data removed]",
      "text/plain": [
       "<Figure size 432x288 with 1 Axes>"
      ]
     },
     "metadata": {
      "needs_background": "light"
     },
     "output_type": "display_data"
    }
   ],
   "source": [
    "plot_train_hist(mge)"
   ]
  },
  {
   "cell_type": "code",
   "execution_count": 9,
   "metadata": {},
   "outputs": [
    {
     "data": {
      "image/png": "[encoded data removed]",
      "text/plain": [
       "<Figure size 432x288 with 1 Axes>"
      ]
     },
     "metadata": {
      "needs_background": "light"
     },
     "output_type": "display_data"
    }
   ],
   "source": [
    "plot_train_hist(mge_train)"
   ]
  },
  {
   "cell_type": "markdown",
   "metadata": {},
   "source": [
    "[Return to results](#results)"
   ]
  },
  {
   "cell_type": "markdown",
   "metadata": {
    "colab_type": "text",
    "id": "uTEBFPV01ltT"
   },
   "source": [
    "#### Make single predictions using testing data on each model"
   ]
  },
  {
   "cell_type": "code",
   "execution_count": 12,
   "metadata": {
    "colab": {},
    "colab_type": "code",
    "id": "ky8H3zcy1ltV",
    "outputId": "5a79bfd6-9634-4d1c-cd6f-071ccc611e20"
   },
   "outputs": [
    {
     "name": "stdout",
     "output_type": "stream",
     "text": [
      "Predictions Index:\n",
      "[array([1, 1, 2, 1, 1, 1, 1, 1, 1, 1, 1, 1, 1, 1, 1, 1, 1, 1, 2, 1, 1, 1,\n",
      "       1, 1, 1, 1, 1, 2, 1, 4, 1, 1, 3, 0, 0, 0, 0, 0, 0, 0, 0, 0, 0, 0,\n",
      "       0, 0, 0, 0, 0, 0, 0, 0, 0, 0, 0, 0, 0, 0, 0, 0, 0, 0, 0, 0, 0, 0,\n",
      "       0, 0, 0, 0, 0, 0, 0, 0, 0, 0, 0, 0, 0, 0, 0, 0, 0, 0, 0, 0, 0, 0,\n",
      "       0, 0, 0, 0, 0, 0, 0, 0, 0, 0, 0, 0, 0, 0, 0, 0, 0, 0, 0, 0, 0, 0,\n",
      "       0, 0, 0, 0, 0, 0, 0, 0, 0, 0, 0, 0, 0, 0, 0, 0, 0, 0], dtype=int64)]\n",
      "\n",
      "\n",
      "Prediction sequence:\n",
      "by the way i hope you appreciate the deep historical research i did to make the french look good but lets not exaggerate — its not archeology either but why because of cooperation <pad> <pad> <pad> <pad> <pad> <pad> <pad> <pad> <pad> <pad> <pad> <pad> <pad> <pad> <pad> <pad> <pad> <pad> <pad> <pad> <pad> <pad> <pad> <pad> <pad> <pad> <pad> <pad> <pad> <pad> <pad> <pad> <pad> <pad> <pad> <pad> <pad> <pad> <pad> <pad> <pad> <pad> <pad> <pad> <pad> <pad> <pad> <pad> <pad> <pad> <pad> <pad> <pad> <pad> <pad> <pad> <pad> <pad> <pad> <pad> <pad> <pad> <pad> <pad> <pad> <pad> <pad> <pad> <pad> <pad> <pad> <pad> <pad> <pad> <pad> <pad> <pad> <pad> <pad> <pad> <pad> <pad> <pad> <pad> <pad> <pad> <pad> <pad> <pad> <pad> <pad> <pad> <pad> <pad> <pad>\n",
      "\n",
      "\n",
      "Prediction output:\n",
      "<na> <na> <comma> <na> <na> <na> <na> <na> <na> <na> <na> <na> <na> <na> <na> <na> <na> <na> <comma> <na> <na> <na> <na> <na> <na> <na> <na> <comma> <na> <question> <na> <na> <period> <pad> <pad> <pad> <pad> <pad> <pad> <pad> <pad> <pad> <pad> <pad> <pad> <pad> <pad> <pad> <pad> <pad> <pad> <pad> <pad> <pad> <pad> <pad> <pad> <pad> <pad> <pad> <pad> <pad> <pad> <pad> <pad> <pad> <pad> <pad> <pad> <pad> <pad> <pad> <pad> <pad> <pad> <pad> <pad> <pad> <pad> <pad> <pad> <pad> <pad> <pad> <pad> <pad> <pad> <pad> <pad> <pad> <pad> <pad> <pad> <pad> <pad> <pad> <pad> <pad> <pad> <pad> <pad> <pad> <pad> <pad> <pad> <pad> <pad> <pad> <pad> <pad> <pad> <pad> <pad> <pad> <pad> <pad> <pad> <pad> <pad> <pad> <pad> <pad> <pad> <pad> <pad> <pad> <pad> <pad>\n",
      "\n",
      "\n",
      "Combined prediction:\n",
      "By the way, I hope you appreciate the deep historical research I did to make the french look good, but lets not exaggerate — its not archeology either, but why? Because of cooperation.                                                                                               \n"
     ]
    }
   ],
   "source": [
    "make_prediction(hybrid, test_x[3333], vocab_to_int, label_to_int, 'hybrid', show_process=True)"
   ]
  },
  {
   "cell_type": "code",
   "execution_count": 27,
   "metadata": {
    "colab": {},
    "colab_type": "code",
    "id": "tyQYEVPQ1ltY",
    "outputId": "cbb4b28a-243f-4736-c545-e30212c3a289"
   },
   "outputs": [
    {
     "name": "stdout",
     "output_type": "stream",
     "text": [
      "Combined prediction:\n",
      "And in 2009, I had the opportunity to visit the tepui table mountains, which are in the orinoco and amazon basins.                                                                                                           \n"
     ]
    }
   ],
   "source": [
    "make_prediction(baseline, test_x[6666], vocab_to_int, label_to_int, 'baseline')"
   ]
  },
  {
   "cell_type": "code",
   "execution_count": 28,
   "metadata": {
    "colab": {},
    "colab_type": "code",
    "id": "4sA_TEwn1ltb",
    "outputId": "79e9af41-ffee-453b-8c98-3c66b363db50"
   },
   "outputs": [
    {
     "name": "stdout",
     "output_type": "stream",
     "text": [
      "Combined prediction:\n",
      "Now let me think. Let me see. I know i'm going to take a towel with me. What will you take to the beach today? What will you take to the beach today?                                                                                               \n"
     ]
    }
   ],
   "source": [
    "make_prediction(mge, mge_test_x[1111], mge_vocab_to_int, mge_label_to_int, 'mge')"
   ]
  },
  {
   "cell_type": "markdown",
   "metadata": {},
   "source": [
    "#### <a name='improvements'> Future/Possible Improvements </a>\n",
    "* Increase dataset size\n",
    "* Add attention mechanism. Work in progress, [Reference Material](https://machinelearningmastery.com/attention-long-short-term-memory-recurrent-neural-networks/)\n",
    "* Expand classes to predict names and locations. This could be done by processing the input data and adding NAME and LOC tokens to the label data before training"
   ]
  },
  {
   "cell_type": "markdown",
   "metadata": {
    "colab_type": "text",
    "id": "ZDBJib5Z1lth"
   },
   "source": [
    "#### <a name='reference'> References </a>\n",
    "\n",
    "* [Bitbucket Repo]()\n",
    "* [How to build a PoS tagger](https://nlpforhackers.io/lstm-pos-tagger-keras/)\n",
    "* [Keras pre-trained word embeddings](https://blog.keras.io/using-pre-trained-word-embeddings-in-a-keras-model.html)\n",
    "* [Keras Documentation](https://keras.io/)\n",
    "* [Reference Repo](https://github.com/catcd/LSTM-CNN-SUD)"
   ]
  }
 ],
 "metadata": {
  "colab": {
   "name": "Hybrid PoS Tagger Model.ipynb",
   "provenance": [],
   "version": "0.3.2"
  },
  "kernelspec": {
   "display_name": "Python 3",
   "language": "python",
   "name": "python3"
  },
  "language_info": {
   "codemirror_mode": {
    "name": "ipython",
    "version": 3
   },
   "file_extension": ".py",
   "mimetype": "text/x-python",
   "name": "python",
   "nbconvert_exporter": "python",
   "pygments_lexer": "ipython3",
   "version": "3.6.7"
  }
 },
 "nbformat": 4,
 "nbformat_minor": 1
}
